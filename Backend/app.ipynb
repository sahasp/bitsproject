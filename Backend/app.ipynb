{
 "cells": [
  {
   "cell_type": "code",
   "execution_count": null,
   "id": "ed7b6c54",
   "metadata": {
    "scrolled": true
   },
   "outputs": [],
   "source": [
    "#CHATBOT MODEL\n",
    "import nltk\n",
    "from nltk.stem import WordNetLemmatizer\n",
    "lemmatizer = WordNetLemmatizer()\n",
    "import json\n",
    "import pickle\n",
    "\n",
    "import numpy as np\n",
    "from keras.models import Sequential\n",
    "from keras.layers import Dense, Activation, Dropout\n",
    "from keras.optimizers import SGD\n",
    "import random\n",
    "\n",
    "words=[]\n",
    "classes = []\n",
    "documents = []\n",
    "ignore_words = ['?', '!']\n",
    "data_file = open('intents.json').read()\n",
    "intents = json.loads(data_file)\n",
    "\n",
    "\n",
    "for intent in intents['intents']:\n",
    "    for pattern in intent['patterns']:\n",
    "\n",
    "        #tokenize each word\n",
    "        w = nltk.word_tokenize(pattern)\n",
    "        words.extend(w)\n",
    "        #add documents in the corpus\n",
    "        documents.append((w, intent['tag']))\n",
    "\n",
    "        # add to our classes list\n",
    "        if intent['tag'] not in classes:\n",
    "            classes.append(intent['tag'])\n",
    "\n",
    "# lemmaztize and lower each word and remove duplicates\n",
    "words = [lemmatizer.lemmatize(w.lower()) for w in words if w not in ignore_words]\n",
    "words = sorted(list(set(words)))\n",
    "# sort classes\n",
    "classes = sorted(list(set(classes)))\n",
    "# documents = combination between patterns and intents\n",
    "print (len(documents), \"documents\")\n",
    "# classes = intents\n",
    "print (len(classes), \"classes\", classes)\n",
    "# words = all words, vocabulary\n",
    "print (len(words), \"unique lemmatized words\", words)\n",
    "\n",
    "\n",
    "pickle.dump(words,open('words.pkl','wb'))\n",
    "pickle.dump(classes,open('classes.pkl','wb'))\n",
    "\n",
    "# create our training data\n",
    "training = []\n",
    "# create an empty array for our output\n",
    "output_empty = [0] * len(classes)\n",
    "# training set, bag of words for each sentence\n",
    "for doc in documents:\n",
    "    # initialize our bag of words\n",
    "    bag = []\n",
    "    # list of tokenized words for the pattern\n",
    "    pattern_words = doc[0]\n",
    "    # lemmatize each word - create base word, in attempt to represent related words\n",
    "    pattern_words = [lemmatizer.lemmatize(word.lower()) for word in pattern_words]\n",
    "    # create our bag of words array with 1, if word match found in current pattern\n",
    "    for w in words:\n",
    "        bag.append(1) if w in pattern_words else bag.append(0)\n",
    "    \n",
    "    # output is a '0' for each tag and '1' for current tag (for each pattern)\n",
    "    output_row = list(output_empty)\n",
    "    output_row[classes.index(doc[1])] = 1\n",
    "    \n",
    "    training.append([bag, output_row])\n",
    "# shuffle our features and turn into np.array\n",
    "random.shuffle(training)\n",
    "training = np.array(training)\n",
    "# create train and test lists. X - patterns, Y - intents\n",
    "train_x = list(training[:,0])\n",
    "train_y = list(training[:,1])\n",
    "print(\"Training data created\")\n",
    "\n",
    "\n",
    "# Create model - 3 layers. First layer 128 neurons, second layer 64 neurons and 3rd output layer contains number of neurons\n",
    "# equal to number of intents to predict output intent with softmax\n",
    "model = Sequential()\n",
    "model.add(Dense(128, input_shape=(len(train_x[0]),), activation='relu'))\n",
    "model.add(Dropout(0.5))\n",
    "model.add(Dense(64, activation='relu'))\n",
    "model.add(Dropout(0.5))\n",
    "model.add(Dense(len(train_y[0]), activation='softmax'))\n",
    "\n",
    "# Compile model. Stochastic gradient descent with Nesterov accelerated gradient gives good results for this model\n",
    "sgd = SGD(lr=0.01, decay=1e-6, momentum=0.9, nesterov=True)\n",
    "model.compile(loss='categorical_crossentropy', optimizer=sgd, metrics=['accuracy'])\n",
    "\n",
    "#fitting and saving the model \n",
    "hist = model.fit(np.array(train_x), np.array(train_y), epochs=200, batch_size=5, verbose=1)\n",
    "model.save('chatbot_model.h5', hist)\n",
    "\n",
    "print(\"model created\")\n",
    "\n",
    "#CHATBOT MODEL"
   ]
  },
  {
   "cell_type": "code",
   "execution_count": null,
   "id": "f1c2c0e3",
   "metadata": {
    "scrolled": true
   },
   "outputs": [],
   "source": [
    "#CHATBOT UI\n",
    "import nltk\n",
    "from nltk.stem import WordNetLemmatizer\n",
    "lemmatizer = WordNetLemmatizer()\n",
    "import pickle\n",
    "import numpy as np\n",
    "\n",
    "from keras.models import load_model\n",
    "model = load_model('chatbot_model.h5')\n",
    "import json\n",
    "import random\n",
    "intents = json.loads(open('intents.json').read())\n",
    "words = pickle.load(open('words.pkl','rb'))\n",
    "classes = pickle.load(open('classes.pkl','rb'))\n",
    "\n",
    "\n",
    "def clean_up_sentence(sentence):\n",
    "    # tokenize the pattern - split words into array\n",
    "    sentence_words = nltk.word_tokenize(sentence)\n",
    "    # stem each word - create short form for word\n",
    "    sentence_words = [lemmatizer.lemmatize(word.lower()) for word in sentence_words]\n",
    "    return sentence_words\n",
    "\n",
    "# return bag of words array: 0 or 1 for each word in the bag that exists in the sentence\n",
    "\n",
    "def bow(sentence, words, show_details=True):\n",
    "    # tokenize the pattern\n",
    "    sentence_words = clean_up_sentence(sentence)\n",
    "    # bag of words - matrix of N words, vocabulary matrix\n",
    "    bag = [0]*len(words)  \n",
    "    for s in sentence_words:\n",
    "        for i,w in enumerate(words):\n",
    "            if w == s: \n",
    "                # assign 1 if current word is in the vocabulary position\n",
    "                bag[i] = 1\n",
    "                if show_details:\n",
    "                    print (\"found in bag: %s\" % w)\n",
    "    return(np.array(bag))\n",
    "\n",
    "def predict_class(sentence, model):\n",
    "    # filter out predictions below a threshold\n",
    "    p = bow(sentence, words,show_details=False)\n",
    "    res = model.predict(np.array([p]))[0]\n",
    "    ERROR_THRESHOLD = 0.25\n",
    "    results = [[i,r] for i,r in enumerate(res) if r>ERROR_THRESHOLD]\n",
    "    # sort by strength of probability\n",
    "    results.sort(key=lambda x: x[1], reverse=True)\n",
    "    return_list = []\n",
    "    for r in results:\n",
    "        return_list.append({\"intent\": classes[r[0]], \"probability\": str(r[1])})\n",
    "    return return_list\n",
    "\n",
    "def getResponse(ints, intents_json):\n",
    "    tag = ints[0]['intent']\n",
    "    list_of_intents = intents_json['intents']\n",
    "    for i in list_of_intents:\n",
    "        if(i['tag']== tag):\n",
    "            result = random.choice(i['responses'])\n",
    "            break\n",
    "    return result\n",
    "\n",
    "def chatbot_response(msg):\n",
    "    ints = predict_class(msg, model)\n",
    "    res = getResponse(ints, intents)\n",
    "    return res\n",
    "\n",
    "\n",
    "#Creating GUI with tkinter\n",
    "import tkinter\n",
    "from tkinter import *\n",
    "\n",
    "\n",
    "def send():\n",
    "    msg = EntryBox.get(\"1.0\",'end-1c').strip()\n",
    "    EntryBox.delete(\"0.0\",END)\n",
    "\n",
    "    if msg != '':\n",
    "        ChatLog.config(state=NORMAL)\n",
    "        ChatLog.insert(END, \"You: \" + msg + '\\n\\n')\n",
    "        ChatLog.config(foreground=\"#442265\", font=(\"Verdana\", 12 ))\n",
    "    \n",
    "        res = chatbot_response(msg)\n",
    "        ChatLog.insert(END, \"Bot: \" + res + '\\n\\n')\n",
    "            \n",
    "        ChatLog.config(state=DISABLED)\n",
    "        ChatLog.yview(END)\n",
    "\n",
    "base = Tk()\n",
    "base.title(\"SWYM - Clinical Trial Support\")\n",
    "base.geometry(\"400x500\")\n",
    "base.resizable(width=FALSE, height=FALSE)\n",
    "#Create Chat window\n",
    "ChatLog = Text(base, bd=0, bg=\"white\", height=\"8\", width=\"50\", font=\"Arial\",)\n",
    "ChatLog.config(state=DISABLED)\n",
    "#Bind scrollbar to Chat window\n",
    "scrollbar = Scrollbar(base, command=ChatLog.yview, cursor=\"heart\")\n",
    "ChatLog['yscrollcommand'] = scrollbar.set\n",
    "#Create Button to send message\n",
    "SendButton = Button(base, font=(\"Verdana\",12,'bold'), text=\"Send\", width=\"12\", height=5,\n",
    "                    bd=0, bg=\"#32de97\", activebackground=\"#3c9d9b\",fg='#ffffff',\n",
    "                    command= send )\n",
    "#Create the box to enter message\n",
    "EntryBox = Text(base, bd=0, bg=\"white\",width=\"29\", height=\"5\", font=\"Arial\")\n",
    "#EntryBox.bind(\"<Return>\", send)\n",
    "#Place all components on the screen\n",
    "scrollbar.place(x=376,y=6, height=386)\n",
    "ChatLog.place(x=6,y=6, height=386, width=370)\n",
    "EntryBox.place(x=128, y=401, height=90, width=265)\n",
    "SendButton.place(x=6, y=401, height=90)\n",
    "base.mainloop()\n",
    "#CHATBOT"
   ]
  },
  {
   "cell_type": "code",
   "execution_count": 2,
   "id": "cd073ac5",
   "metadata": {},
   "outputs": [],
   "source": [
    "# Suggest posts\n",
    "import numpy as np\n",
    "import pandas as pd\n",
    "\n",
    "import os\n",
    "import math\n",
    "import time\n",
    "\n",
    "import matplotlib.pyplot as plt\n",
    "import seaborn as sns\n",
    "import plotly.figure_factory as ff\n",
    "import plotly.graph_objects as go\n",
    "import plotly.express as px\n",
    "\n",
    "# Below libraries are for text processing using NLTK\n",
    "from nltk.corpus import stopwords\n",
    "from nltk.tokenize import word_tokenize\n",
    "from nltk.stem import WordNetLemmatizer\n",
    "\n",
    "# Below libraries are for feature representation using sklearn\n",
    "from sklearn.feature_extraction.text import CountVectorizer\n",
    "from sklearn.feature_extraction.text import TfidfVectorizer\n",
    "\n",
    "# Below libraries are for similarity matrices using sklearn\n",
    "from sklearn.metrics.pairwise import cosine_similarity  \n",
    "from sklearn.metrics import pairwise_distances\n",
    "\n",
    "\n",
    "dataset = pd.read_json(r'C:\\Users\\Sahas\\Desktop\\Project\\GIT\\SWYM\\Backend\\dataSet\\Dataset.json', lines = True)"
   ]
  },
  {
   "cell_type": "code",
   "execution_count": 3,
   "id": "05f996db",
   "metadata": {},
   "outputs": [
    {
     "name": "stdout",
     "output_type": "stream",
     "text": [
      "<class 'pandas.core.frame.DataFrame'>\n",
      "RangeIndex: 200853 entries, 0 to 200852\n",
      "Data columns (total 6 columns):\n",
      " #   Column             Non-Null Count   Dtype         \n",
      "---  ------             --------------   -----         \n",
      " 0   category           200853 non-null  object        \n",
      " 1   headline           200853 non-null  object        \n",
      " 2   authors            200853 non-null  object        \n",
      " 3   link               200853 non-null  object        \n",
      " 4   short_description  200853 non-null  object        \n",
      " 5   date               200853 non-null  datetime64[ns]\n",
      "dtypes: datetime64[ns](1), object(5)\n",
      "memory usage: 9.2+ MB\n"
     ]
    },
    {
     "data": {
      "text/html": [
       "<div>\n",
       "<style scoped>\n",
       "    .dataframe tbody tr th:only-of-type {\n",
       "        vertical-align: middle;\n",
       "    }\n",
       "\n",
       "    .dataframe tbody tr th {\n",
       "        vertical-align: top;\n",
       "    }\n",
       "\n",
       "    .dataframe thead th {\n",
       "        text-align: right;\n",
       "    }\n",
       "</style>\n",
       "<table border=\"1\" class=\"dataframe\">\n",
       "  <thead>\n",
       "    <tr style=\"text-align: right;\">\n",
       "      <th></th>\n",
       "      <th>category</th>\n",
       "      <th>headline</th>\n",
       "      <th>authors</th>\n",
       "      <th>link</th>\n",
       "      <th>short_description</th>\n",
       "      <th>date</th>\n",
       "    </tr>\n",
       "  </thead>\n",
       "  <tbody>\n",
       "    <tr>\n",
       "      <th>0</th>\n",
       "      <td>CRIME</td>\n",
       "      <td>There Were 2 Mass Shootings In Texas Last Week...</td>\n",
       "      <td>Melissa Jeltsen</td>\n",
       "      <td>https://www.huffingtonpost.com/entry/texas-ama...</td>\n",
       "      <td>She left her husband. He killed their children...</td>\n",
       "      <td>2018-05-26</td>\n",
       "    </tr>\n",
       "    <tr>\n",
       "      <th>1</th>\n",
       "      <td>ENTERTAINMENT</td>\n",
       "      <td>Will Smith Joins Diplo And Nicky Jam For The 2...</td>\n",
       "      <td>Andy McDonald</td>\n",
       "      <td>https://www.huffingtonpost.com/entry/will-smit...</td>\n",
       "      <td>Of course it has a song.</td>\n",
       "      <td>2018-05-26</td>\n",
       "    </tr>\n",
       "    <tr>\n",
       "      <th>2</th>\n",
       "      <td>ENTERTAINMENT</td>\n",
       "      <td>Hugh Grant Marries For The First Time At Age 57</td>\n",
       "      <td>Ron Dicker</td>\n",
       "      <td>https://www.huffingtonpost.com/entry/hugh-gran...</td>\n",
       "      <td>The actor and his longtime girlfriend Anna Ebe...</td>\n",
       "      <td>2018-05-26</td>\n",
       "    </tr>\n",
       "    <tr>\n",
       "      <th>3</th>\n",
       "      <td>ENTERTAINMENT</td>\n",
       "      <td>Jim Carrey Blasts 'Castrato' Adam Schiff And D...</td>\n",
       "      <td>Ron Dicker</td>\n",
       "      <td>https://www.huffingtonpost.com/entry/jim-carre...</td>\n",
       "      <td>The actor gives Dems an ass-kicking for not fi...</td>\n",
       "      <td>2018-05-26</td>\n",
       "    </tr>\n",
       "    <tr>\n",
       "      <th>4</th>\n",
       "      <td>ENTERTAINMENT</td>\n",
       "      <td>Julianna Margulies Uses Donald Jaguar Poop Bag...</td>\n",
       "      <td>Ron Dicker</td>\n",
       "      <td>https://www.huffingtonpost.com/entry/julianna-...</td>\n",
       "      <td>The \"Dietland\" actress said using the bags is ...</td>\n",
       "      <td>2018-05-26</td>\n",
       "    </tr>\n",
       "  </tbody>\n",
       "</table>\n",
       "</div>"
      ],
      "text/plain": [
       "        category                                           headline  \\\n",
       "0          CRIME  There Were 2 Mass Shootings In Texas Last Week...   \n",
       "1  ENTERTAINMENT  Will Smith Joins Diplo And Nicky Jam For The 2...   \n",
       "2  ENTERTAINMENT    Hugh Grant Marries For The First Time At Age 57   \n",
       "3  ENTERTAINMENT  Jim Carrey Blasts 'Castrato' Adam Schiff And D...   \n",
       "4  ENTERTAINMENT  Julianna Margulies Uses Donald Jaguar Poop Bag...   \n",
       "\n",
       "           authors                                               link  \\\n",
       "0  Melissa Jeltsen  https://www.huffingtonpost.com/entry/texas-ama...   \n",
       "1    Andy McDonald  https://www.huffingtonpost.com/entry/will-smit...   \n",
       "2       Ron Dicker  https://www.huffingtonpost.com/entry/hugh-gran...   \n",
       "3       Ron Dicker  https://www.huffingtonpost.com/entry/jim-carre...   \n",
       "4       Ron Dicker  https://www.huffingtonpost.com/entry/julianna-...   \n",
       "\n",
       "                                   short_description       date  \n",
       "0  She left her husband. He killed their children... 2018-05-26  \n",
       "1                           Of course it has a song. 2018-05-26  \n",
       "2  The actor and his longtime girlfriend Anna Ebe... 2018-05-26  \n",
       "3  The actor gives Dems an ass-kicking for not fi... 2018-05-26  \n",
       "4  The \"Dietland\" actress said using the bags is ... 2018-05-26  "
      ]
     },
     "execution_count": 3,
     "metadata": {},
     "output_type": "execute_result"
    }
   ],
   "source": [
    "dataset.info()\n",
    "dataset.head()"
   ]
  },
  {
   "cell_type": "code",
   "execution_count": 4,
   "id": "8cf55f10",
   "metadata": {},
   "outputs": [
    {
     "name": "stdout",
     "output_type": "stream",
     "text": [
      "Total number of articles after removal of headlines with short title: 8530\n"
     ]
    }
   ],
   "source": [
    "dataset = dataset[dataset['date'] >= pd.Timestamp(2018,1,1)]\n",
    "dataset.shape\n",
    "dataset = dataset[dataset['headline'].apply(lambda x: len(x.split())>5)]\n",
    "print(\"Total number of articles after removal of headlines with short title:\", dataset.shape[0])"
   ]
  },
  {
   "cell_type": "code",
   "execution_count": 5,
   "id": "4c54b752",
   "metadata": {},
   "outputs": [
    {
     "name": "stdout",
     "output_type": "stream",
     "text": [
      "Total number of articles after removing duplicates: 8485\n"
     ]
    }
   ],
   "source": [
    "dataset.sort_values('headline',inplace=True, ascending=False)\n",
    "duplicated_articles_series = dataset.duplicated('headline', keep = False)\n",
    "dataset = dataset[~duplicated_articles_series]\n",
    "print(\"Total number of articles after removing duplicates:\", dataset.shape[0])"
   ]
  },
  {
   "cell_type": "code",
   "execution_count": 6,
   "id": "b082ad46",
   "metadata": {},
   "outputs": [
    {
     "data": {
      "text/plain": [
       "category             0\n",
       "headline             0\n",
       "authors              0\n",
       "link                 0\n",
       "short_description    0\n",
       "date                 0\n",
       "dtype: int64"
      ]
     },
     "execution_count": 6,
     "metadata": {},
     "output_type": "execute_result"
    }
   ],
   "source": [
    "dataset.isna().sum()"
   ]
  },
  {
   "cell_type": "code",
   "execution_count": 7,
   "id": "963b4534",
   "metadata": {},
   "outputs": [
    {
     "name": "stdout",
     "output_type": "stream",
     "text": [
      "Total number of articles :  8485\n",
      "Total number of authors :  892\n",
      "Total number of unqiue categories :  26\n"
     ]
    }
   ],
   "source": [
    "print(\"Total number of articles : \", dataset.shape[0])\n",
    "print(\"Total number of authors : \", dataset[\"authors\"].nunique())\n",
    "print(\"Total number of unqiue categories : \", dataset[\"category\"].nunique())"
   ]
  },
  {
   "cell_type": "code",
   "execution_count": 9,
   "id": "0d38c35f",
   "metadata": {},
   "outputs": [
    {
     "data": {
      "application/vnd.plotly.v1+json": {
       "config": {
        "plotlyServerURL": "https://plot.ly"
       },
       "data": [
        {
         "type": "bar",
         "x": [
          "POLITICS",
          "ENTERTAINMENT",
          "WORLD NEWS",
          "QUEER VOICES",
          "COMEDY",
          "BLACK VOICES",
          "SPORTS",
          "MEDIA",
          "WOMEN",
          "WEIRD NEWS",
          "CRIME",
          "BUSINESS",
          "LATINO VOICES",
          "IMPACT",
          "TRAVEL",
          "RELIGION",
          "TECH",
          "SCIENCE",
          "STYLE",
          "PARENTS",
          "EDUCATION",
          "GREEN",
          "HEALTHY LIVING",
          "ARTS & CULTURE",
          "TASTE",
          "COLLEGE"
         ],
         "y": [
          3042,
          1699,
          557,
          451,
          443,
          406,
          364,
          290,
          226,
          205,
          170,
          85,
          83,
          73,
          72,
          63,
          53,
          40,
          34,
          32,
          31,
          28,
          15,
          13,
          9,
          1
         ]
        }
       ],
       "layout": {
        "height": 700,
        "template": {
         "data": {
          "bar": [
           {
            "error_x": {
             "color": "#2a3f5f"
            },
            "error_y": {
             "color": "#2a3f5f"
            },
            "marker": {
             "line": {
              "color": "#E5ECF6",
              "width": 0.5
             },
             "pattern": {
              "fillmode": "overlay",
              "size": 10,
              "solidity": 0.2
             }
            },
            "type": "bar"
           }
          ],
          "barpolar": [
           {
            "marker": {
             "line": {
              "color": "#E5ECF6",
              "width": 0.5
             },
             "pattern": {
              "fillmode": "overlay",
              "size": 10,
              "solidity": 0.2
             }
            },
            "type": "barpolar"
           }
          ],
          "carpet": [
           {
            "aaxis": {
             "endlinecolor": "#2a3f5f",
             "gridcolor": "white",
             "linecolor": "white",
             "minorgridcolor": "white",
             "startlinecolor": "#2a3f5f"
            },
            "baxis": {
             "endlinecolor": "#2a3f5f",
             "gridcolor": "white",
             "linecolor": "white",
             "minorgridcolor": "white",
             "startlinecolor": "#2a3f5f"
            },
            "type": "carpet"
           }
          ],
          "choropleth": [
           {
            "colorbar": {
             "outlinewidth": 0,
             "ticks": ""
            },
            "type": "choropleth"
           }
          ],
          "contour": [
           {
            "colorbar": {
             "outlinewidth": 0,
             "ticks": ""
            },
            "colorscale": [
             [
              0,
              "#0d0887"
             ],
             [
              0.1111111111111111,
              "#46039f"
             ],
             [
              0.2222222222222222,
              "#7201a8"
             ],
             [
              0.3333333333333333,
              "#9c179e"
             ],
             [
              0.4444444444444444,
              "#bd3786"
             ],
             [
              0.5555555555555556,
              "#d8576b"
             ],
             [
              0.6666666666666666,
              "#ed7953"
             ],
             [
              0.7777777777777778,
              "#fb9f3a"
             ],
             [
              0.8888888888888888,
              "#fdca26"
             ],
             [
              1,
              "#f0f921"
             ]
            ],
            "type": "contour"
           }
          ],
          "contourcarpet": [
           {
            "colorbar": {
             "outlinewidth": 0,
             "ticks": ""
            },
            "type": "contourcarpet"
           }
          ],
          "heatmap": [
           {
            "colorbar": {
             "outlinewidth": 0,
             "ticks": ""
            },
            "colorscale": [
             [
              0,
              "#0d0887"
             ],
             [
              0.1111111111111111,
              "#46039f"
             ],
             [
              0.2222222222222222,
              "#7201a8"
             ],
             [
              0.3333333333333333,
              "#9c179e"
             ],
             [
              0.4444444444444444,
              "#bd3786"
             ],
             [
              0.5555555555555556,
              "#d8576b"
             ],
             [
              0.6666666666666666,
              "#ed7953"
             ],
             [
              0.7777777777777778,
              "#fb9f3a"
             ],
             [
              0.8888888888888888,
              "#fdca26"
             ],
             [
              1,
              "#f0f921"
             ]
            ],
            "type": "heatmap"
           }
          ],
          "heatmapgl": [
           {
            "colorbar": {
             "outlinewidth": 0,
             "ticks": ""
            },
            "colorscale": [
             [
              0,
              "#0d0887"
             ],
             [
              0.1111111111111111,
              "#46039f"
             ],
             [
              0.2222222222222222,
              "#7201a8"
             ],
             [
              0.3333333333333333,
              "#9c179e"
             ],
             [
              0.4444444444444444,
              "#bd3786"
             ],
             [
              0.5555555555555556,
              "#d8576b"
             ],
             [
              0.6666666666666666,
              "#ed7953"
             ],
             [
              0.7777777777777778,
              "#fb9f3a"
             ],
             [
              0.8888888888888888,
              "#fdca26"
             ],
             [
              1,
              "#f0f921"
             ]
            ],
            "type": "heatmapgl"
           }
          ],
          "histogram": [
           {
            "marker": {
             "pattern": {
              "fillmode": "overlay",
              "size": 10,
              "solidity": 0.2
             }
            },
            "type": "histogram"
           }
          ],
          "histogram2d": [
           {
            "colorbar": {
             "outlinewidth": 0,
             "ticks": ""
            },
            "colorscale": [
             [
              0,
              "#0d0887"
             ],
             [
              0.1111111111111111,
              "#46039f"
             ],
             [
              0.2222222222222222,
              "#7201a8"
             ],
             [
              0.3333333333333333,
              "#9c179e"
             ],
             [
              0.4444444444444444,
              "#bd3786"
             ],
             [
              0.5555555555555556,
              "#d8576b"
             ],
             [
              0.6666666666666666,
              "#ed7953"
             ],
             [
              0.7777777777777778,
              "#fb9f3a"
             ],
             [
              0.8888888888888888,
              "#fdca26"
             ],
             [
              1,
              "#f0f921"
             ]
            ],
            "type": "histogram2d"
           }
          ],
          "histogram2dcontour": [
           {
            "colorbar": {
             "outlinewidth": 0,
             "ticks": ""
            },
            "colorscale": [
             [
              0,
              "#0d0887"
             ],
             [
              0.1111111111111111,
              "#46039f"
             ],
             [
              0.2222222222222222,
              "#7201a8"
             ],
             [
              0.3333333333333333,
              "#9c179e"
             ],
             [
              0.4444444444444444,
              "#bd3786"
             ],
             [
              0.5555555555555556,
              "#d8576b"
             ],
             [
              0.6666666666666666,
              "#ed7953"
             ],
             [
              0.7777777777777778,
              "#fb9f3a"
             ],
             [
              0.8888888888888888,
              "#fdca26"
             ],
             [
              1,
              "#f0f921"
             ]
            ],
            "type": "histogram2dcontour"
           }
          ],
          "mesh3d": [
           {
            "colorbar": {
             "outlinewidth": 0,
             "ticks": ""
            },
            "type": "mesh3d"
           }
          ],
          "parcoords": [
           {
            "line": {
             "colorbar": {
              "outlinewidth": 0,
              "ticks": ""
             }
            },
            "type": "parcoords"
           }
          ],
          "pie": [
           {
            "automargin": true,
            "type": "pie"
           }
          ],
          "scatter": [
           {
            "fillpattern": {
             "fillmode": "overlay",
             "size": 10,
             "solidity": 0.2
            },
            "type": "scatter"
           }
          ],
          "scatter3d": [
           {
            "line": {
             "colorbar": {
              "outlinewidth": 0,
              "ticks": ""
             }
            },
            "marker": {
             "colorbar": {
              "outlinewidth": 0,
              "ticks": ""
             }
            },
            "type": "scatter3d"
           }
          ],
          "scattercarpet": [
           {
            "marker": {
             "colorbar": {
              "outlinewidth": 0,
              "ticks": ""
             }
            },
            "type": "scattercarpet"
           }
          ],
          "scattergeo": [
           {
            "marker": {
             "colorbar": {
              "outlinewidth": 0,
              "ticks": ""
             }
            },
            "type": "scattergeo"
           }
          ],
          "scattergl": [
           {
            "marker": {
             "colorbar": {
              "outlinewidth": 0,
              "ticks": ""
             }
            },
            "type": "scattergl"
           }
          ],
          "scattermapbox": [
           {
            "marker": {
             "colorbar": {
              "outlinewidth": 0,
              "ticks": ""
             }
            },
            "type": "scattermapbox"
           }
          ],
          "scatterpolar": [
           {
            "marker": {
             "colorbar": {
              "outlinewidth": 0,
              "ticks": ""
             }
            },
            "type": "scatterpolar"
           }
          ],
          "scatterpolargl": [
           {
            "marker": {
             "colorbar": {
              "outlinewidth": 0,
              "ticks": ""
             }
            },
            "type": "scatterpolargl"
           }
          ],
          "scatterternary": [
           {
            "marker": {
             "colorbar": {
              "outlinewidth": 0,
              "ticks": ""
             }
            },
            "type": "scatterternary"
           }
          ],
          "surface": [
           {
            "colorbar": {
             "outlinewidth": 0,
             "ticks": ""
            },
            "colorscale": [
             [
              0,
              "#0d0887"
             ],
             [
              0.1111111111111111,
              "#46039f"
             ],
             [
              0.2222222222222222,
              "#7201a8"
             ],
             [
              0.3333333333333333,
              "#9c179e"
             ],
             [
              0.4444444444444444,
              "#bd3786"
             ],
             [
              0.5555555555555556,
              "#d8576b"
             ],
             [
              0.6666666666666666,
              "#ed7953"
             ],
             [
              0.7777777777777778,
              "#fb9f3a"
             ],
             [
              0.8888888888888888,
              "#fdca26"
             ],
             [
              1,
              "#f0f921"
             ]
            ],
            "type": "surface"
           }
          ],
          "table": [
           {
            "cells": {
             "fill": {
              "color": "#EBF0F8"
             },
             "line": {
              "color": "white"
             }
            },
            "header": {
             "fill": {
              "color": "#C8D4E3"
             },
             "line": {
              "color": "white"
             }
            },
            "type": "table"
           }
          ]
         },
         "layout": {
          "annotationdefaults": {
           "arrowcolor": "#2a3f5f",
           "arrowhead": 0,
           "arrowwidth": 1
          },
          "autotypenumbers": "strict",
          "coloraxis": {
           "colorbar": {
            "outlinewidth": 0,
            "ticks": ""
           }
          },
          "colorscale": {
           "diverging": [
            [
             0,
             "#8e0152"
            ],
            [
             0.1,
             "#c51b7d"
            ],
            [
             0.2,
             "#de77ae"
            ],
            [
             0.3,
             "#f1b6da"
            ],
            [
             0.4,
             "#fde0ef"
            ],
            [
             0.5,
             "#f7f7f7"
            ],
            [
             0.6,
             "#e6f5d0"
            ],
            [
             0.7,
             "#b8e186"
            ],
            [
             0.8,
             "#7fbc41"
            ],
            [
             0.9,
             "#4d9221"
            ],
            [
             1,
             "#276419"
            ]
           ],
           "sequential": [
            [
             0,
             "#0d0887"
            ],
            [
             0.1111111111111111,
             "#46039f"
            ],
            [
             0.2222222222222222,
             "#7201a8"
            ],
            [
             0.3333333333333333,
             "#9c179e"
            ],
            [
             0.4444444444444444,
             "#bd3786"
            ],
            [
             0.5555555555555556,
             "#d8576b"
            ],
            [
             0.6666666666666666,
             "#ed7953"
            ],
            [
             0.7777777777777778,
             "#fb9f3a"
            ],
            [
             0.8888888888888888,
             "#fdca26"
            ],
            [
             1,
             "#f0f921"
            ]
           ],
           "sequentialminus": [
            [
             0,
             "#0d0887"
            ],
            [
             0.1111111111111111,
             "#46039f"
            ],
            [
             0.2222222222222222,
             "#7201a8"
            ],
            [
             0.3333333333333333,
             "#9c179e"
            ],
            [
             0.4444444444444444,
             "#bd3786"
            ],
            [
             0.5555555555555556,
             "#d8576b"
            ],
            [
             0.6666666666666666,
             "#ed7953"
            ],
            [
             0.7777777777777778,
             "#fb9f3a"
            ],
            [
             0.8888888888888888,
             "#fdca26"
            ],
            [
             1,
             "#f0f921"
            ]
           ]
          },
          "colorway": [
           "#636efa",
           "#EF553B",
           "#00cc96",
           "#ab63fa",
           "#FFA15A",
           "#19d3f3",
           "#FF6692",
           "#B6E880",
           "#FF97FF",
           "#FECB52"
          ],
          "font": {
           "color": "#2a3f5f"
          },
          "geo": {
           "bgcolor": "white",
           "lakecolor": "white",
           "landcolor": "#E5ECF6",
           "showlakes": true,
           "showland": true,
           "subunitcolor": "white"
          },
          "hoverlabel": {
           "align": "left"
          },
          "hovermode": "closest",
          "mapbox": {
           "style": "light"
          },
          "paper_bgcolor": "white",
          "plot_bgcolor": "#E5ECF6",
          "polar": {
           "angularaxis": {
            "gridcolor": "white",
            "linecolor": "white",
            "ticks": ""
           },
           "bgcolor": "#E5ECF6",
           "radialaxis": {
            "gridcolor": "white",
            "linecolor": "white",
            "ticks": ""
           }
          },
          "scene": {
           "xaxis": {
            "backgroundcolor": "#E5ECF6",
            "gridcolor": "white",
            "gridwidth": 2,
            "linecolor": "white",
            "showbackground": true,
            "ticks": "",
            "zerolinecolor": "white"
           },
           "yaxis": {
            "backgroundcolor": "#E5ECF6",
            "gridcolor": "white",
            "gridwidth": 2,
            "linecolor": "white",
            "showbackground": true,
            "ticks": "",
            "zerolinecolor": "white"
           },
           "zaxis": {
            "backgroundcolor": "#E5ECF6",
            "gridcolor": "white",
            "gridwidth": 2,
            "linecolor": "white",
            "showbackground": true,
            "ticks": "",
            "zerolinecolor": "white"
           }
          },
          "shapedefaults": {
           "line": {
            "color": "#2a3f5f"
           }
          },
          "ternary": {
           "aaxis": {
            "gridcolor": "white",
            "linecolor": "white",
            "ticks": ""
           },
           "baxis": {
            "gridcolor": "white",
            "linecolor": "white",
            "ticks": ""
           },
           "bgcolor": "#E5ECF6",
           "caxis": {
            "gridcolor": "white",
            "linecolor": "white",
            "ticks": ""
           }
          },
          "title": {
           "x": 0.05
          },
          "xaxis": {
           "automargin": true,
           "gridcolor": "white",
           "linecolor": "white",
           "ticks": "",
           "title": {
            "standoff": 15
           },
           "zerolinecolor": "white",
           "zerolinewidth": 2
          },
          "yaxis": {
           "automargin": true,
           "gridcolor": "white",
           "linecolor": "white",
           "ticks": "",
           "title": {
            "standoff": 15
           },
           "zerolinecolor": "white",
           "zerolinewidth": 2
          }
         }
        },
        "title": {
         "text": "Distribution of articles category-wise",
         "x": 0.5,
         "xanchor": "center",
         "y": 0.9,
         "yanchor": "top"
        },
        "width": 800,
        "xaxis": {
         "title": {
          "text": "Category name"
         }
        },
        "yaxis": {
         "title": {
          "text": "Number of articles"
         }
        }
       }
      },
      "text/html": [
       "<div>                            <div id=\"af1e1155-cc43-4be2-be02-4a140de76c87\" class=\"plotly-graph-div\" style=\"height:700px; width:800px;\"></div>            <script type=\"text/javascript\">                require([\"plotly\"], function(Plotly) {                    window.PLOTLYENV=window.PLOTLYENV || {};                                    if (document.getElementById(\"af1e1155-cc43-4be2-be02-4a140de76c87\")) {                    Plotly.newPlot(                        \"af1e1155-cc43-4be2-be02-4a140de76c87\",                        [{\"x\":[\"POLITICS\",\"ENTERTAINMENT\",\"WORLD NEWS\",\"QUEER VOICES\",\"COMEDY\",\"BLACK VOICES\",\"SPORTS\",\"MEDIA\",\"WOMEN\",\"WEIRD NEWS\",\"CRIME\",\"BUSINESS\",\"LATINO VOICES\",\"IMPACT\",\"TRAVEL\",\"RELIGION\",\"TECH\",\"SCIENCE\",\"STYLE\",\"PARENTS\",\"EDUCATION\",\"GREEN\",\"HEALTHY LIVING\",\"ARTS & CULTURE\",\"TASTE\",\"COLLEGE\"],\"y\":[3042,1699,557,451,443,406,364,290,226,205,170,85,83,73,72,63,53,40,34,32,31,28,15,13,9,1],\"type\":\"bar\"}],                        {\"template\":{\"data\":{\"histogram2dcontour\":[{\"type\":\"histogram2dcontour\",\"colorbar\":{\"outlinewidth\":0,\"ticks\":\"\"},\"colorscale\":[[0.0,\"#0d0887\"],[0.1111111111111111,\"#46039f\"],[0.2222222222222222,\"#7201a8\"],[0.3333333333333333,\"#9c179e\"],[0.4444444444444444,\"#bd3786\"],[0.5555555555555556,\"#d8576b\"],[0.6666666666666666,\"#ed7953\"],[0.7777777777777778,\"#fb9f3a\"],[0.8888888888888888,\"#fdca26\"],[1.0,\"#f0f921\"]]}],\"choropleth\":[{\"type\":\"choropleth\",\"colorbar\":{\"outlinewidth\":0,\"ticks\":\"\"}}],\"histogram2d\":[{\"type\":\"histogram2d\",\"colorbar\":{\"outlinewidth\":0,\"ticks\":\"\"},\"colorscale\":[[0.0,\"#0d0887\"],[0.1111111111111111,\"#46039f\"],[0.2222222222222222,\"#7201a8\"],[0.3333333333333333,\"#9c179e\"],[0.4444444444444444,\"#bd3786\"],[0.5555555555555556,\"#d8576b\"],[0.6666666666666666,\"#ed7953\"],[0.7777777777777778,\"#fb9f3a\"],[0.8888888888888888,\"#fdca26\"],[1.0,\"#f0f921\"]]}],\"heatmap\":[{\"type\":\"heatmap\",\"colorbar\":{\"outlinewidth\":0,\"ticks\":\"\"},\"colorscale\":[[0.0,\"#0d0887\"],[0.1111111111111111,\"#46039f\"],[0.2222222222222222,\"#7201a8\"],[0.3333333333333333,\"#9c179e\"],[0.4444444444444444,\"#bd3786\"],[0.5555555555555556,\"#d8576b\"],[0.6666666666666666,\"#ed7953\"],[0.7777777777777778,\"#fb9f3a\"],[0.8888888888888888,\"#fdca26\"],[1.0,\"#f0f921\"]]}],\"heatmapgl\":[{\"type\":\"heatmapgl\",\"colorbar\":{\"outlinewidth\":0,\"ticks\":\"\"},\"colorscale\":[[0.0,\"#0d0887\"],[0.1111111111111111,\"#46039f\"],[0.2222222222222222,\"#7201a8\"],[0.3333333333333333,\"#9c179e\"],[0.4444444444444444,\"#bd3786\"],[0.5555555555555556,\"#d8576b\"],[0.6666666666666666,\"#ed7953\"],[0.7777777777777778,\"#fb9f3a\"],[0.8888888888888888,\"#fdca26\"],[1.0,\"#f0f921\"]]}],\"contourcarpet\":[{\"type\":\"contourcarpet\",\"colorbar\":{\"outlinewidth\":0,\"ticks\":\"\"}}],\"contour\":[{\"type\":\"contour\",\"colorbar\":{\"outlinewidth\":0,\"ticks\":\"\"},\"colorscale\":[[0.0,\"#0d0887\"],[0.1111111111111111,\"#46039f\"],[0.2222222222222222,\"#7201a8\"],[0.3333333333333333,\"#9c179e\"],[0.4444444444444444,\"#bd3786\"],[0.5555555555555556,\"#d8576b\"],[0.6666666666666666,\"#ed7953\"],[0.7777777777777778,\"#fb9f3a\"],[0.8888888888888888,\"#fdca26\"],[1.0,\"#f0f921\"]]}],\"surface\":[{\"type\":\"surface\",\"colorbar\":{\"outlinewidth\":0,\"ticks\":\"\"},\"colorscale\":[[0.0,\"#0d0887\"],[0.1111111111111111,\"#46039f\"],[0.2222222222222222,\"#7201a8\"],[0.3333333333333333,\"#9c179e\"],[0.4444444444444444,\"#bd3786\"],[0.5555555555555556,\"#d8576b\"],[0.6666666666666666,\"#ed7953\"],[0.7777777777777778,\"#fb9f3a\"],[0.8888888888888888,\"#fdca26\"],[1.0,\"#f0f921\"]]}],\"mesh3d\":[{\"type\":\"mesh3d\",\"colorbar\":{\"outlinewidth\":0,\"ticks\":\"\"}}],\"scatter\":[{\"fillpattern\":{\"fillmode\":\"overlay\",\"size\":10,\"solidity\":0.2},\"type\":\"scatter\"}],\"parcoords\":[{\"type\":\"parcoords\",\"line\":{\"colorbar\":{\"outlinewidth\":0,\"ticks\":\"\"}}}],\"scatterpolargl\":[{\"type\":\"scatterpolargl\",\"marker\":{\"colorbar\":{\"outlinewidth\":0,\"ticks\":\"\"}}}],\"bar\":[{\"error_x\":{\"color\":\"#2a3f5f\"},\"error_y\":{\"color\":\"#2a3f5f\"},\"marker\":{\"line\":{\"color\":\"#E5ECF6\",\"width\":0.5},\"pattern\":{\"fillmode\":\"overlay\",\"size\":10,\"solidity\":0.2}},\"type\":\"bar\"}],\"scattergeo\":[{\"type\":\"scattergeo\",\"marker\":{\"colorbar\":{\"outlinewidth\":0,\"ticks\":\"\"}}}],\"scatterpolar\":[{\"type\":\"scatterpolar\",\"marker\":{\"colorbar\":{\"outlinewidth\":0,\"ticks\":\"\"}}}],\"histogram\":[{\"marker\":{\"pattern\":{\"fillmode\":\"overlay\",\"size\":10,\"solidity\":0.2}},\"type\":\"histogram\"}],\"scattergl\":[{\"type\":\"scattergl\",\"marker\":{\"colorbar\":{\"outlinewidth\":0,\"ticks\":\"\"}}}],\"scatter3d\":[{\"type\":\"scatter3d\",\"line\":{\"colorbar\":{\"outlinewidth\":0,\"ticks\":\"\"}},\"marker\":{\"colorbar\":{\"outlinewidth\":0,\"ticks\":\"\"}}}],\"scattermapbox\":[{\"type\":\"scattermapbox\",\"marker\":{\"colorbar\":{\"outlinewidth\":0,\"ticks\":\"\"}}}],\"scatterternary\":[{\"type\":\"scatterternary\",\"marker\":{\"colorbar\":{\"outlinewidth\":0,\"ticks\":\"\"}}}],\"scattercarpet\":[{\"type\":\"scattercarpet\",\"marker\":{\"colorbar\":{\"outlinewidth\":0,\"ticks\":\"\"}}}],\"carpet\":[{\"aaxis\":{\"endlinecolor\":\"#2a3f5f\",\"gridcolor\":\"white\",\"linecolor\":\"white\",\"minorgridcolor\":\"white\",\"startlinecolor\":\"#2a3f5f\"},\"baxis\":{\"endlinecolor\":\"#2a3f5f\",\"gridcolor\":\"white\",\"linecolor\":\"white\",\"minorgridcolor\":\"white\",\"startlinecolor\":\"#2a3f5f\"},\"type\":\"carpet\"}],\"table\":[{\"cells\":{\"fill\":{\"color\":\"#EBF0F8\"},\"line\":{\"color\":\"white\"}},\"header\":{\"fill\":{\"color\":\"#C8D4E3\"},\"line\":{\"color\":\"white\"}},\"type\":\"table\"}],\"barpolar\":[{\"marker\":{\"line\":{\"color\":\"#E5ECF6\",\"width\":0.5},\"pattern\":{\"fillmode\":\"overlay\",\"size\":10,\"solidity\":0.2}},\"type\":\"barpolar\"}],\"pie\":[{\"automargin\":true,\"type\":\"pie\"}]},\"layout\":{\"autotypenumbers\":\"strict\",\"colorway\":[\"#636efa\",\"#EF553B\",\"#00cc96\",\"#ab63fa\",\"#FFA15A\",\"#19d3f3\",\"#FF6692\",\"#B6E880\",\"#FF97FF\",\"#FECB52\"],\"font\":{\"color\":\"#2a3f5f\"},\"hovermode\":\"closest\",\"hoverlabel\":{\"align\":\"left\"},\"paper_bgcolor\":\"white\",\"plot_bgcolor\":\"#E5ECF6\",\"polar\":{\"bgcolor\":\"#E5ECF6\",\"angularaxis\":{\"gridcolor\":\"white\",\"linecolor\":\"white\",\"ticks\":\"\"},\"radialaxis\":{\"gridcolor\":\"white\",\"linecolor\":\"white\",\"ticks\":\"\"}},\"ternary\":{\"bgcolor\":\"#E5ECF6\",\"aaxis\":{\"gridcolor\":\"white\",\"linecolor\":\"white\",\"ticks\":\"\"},\"baxis\":{\"gridcolor\":\"white\",\"linecolor\":\"white\",\"ticks\":\"\"},\"caxis\":{\"gridcolor\":\"white\",\"linecolor\":\"white\",\"ticks\":\"\"}},\"coloraxis\":{\"colorbar\":{\"outlinewidth\":0,\"ticks\":\"\"}},\"colorscale\":{\"sequential\":[[0.0,\"#0d0887\"],[0.1111111111111111,\"#46039f\"],[0.2222222222222222,\"#7201a8\"],[0.3333333333333333,\"#9c179e\"],[0.4444444444444444,\"#bd3786\"],[0.5555555555555556,\"#d8576b\"],[0.6666666666666666,\"#ed7953\"],[0.7777777777777778,\"#fb9f3a\"],[0.8888888888888888,\"#fdca26\"],[1.0,\"#f0f921\"]],\"sequentialminus\":[[0.0,\"#0d0887\"],[0.1111111111111111,\"#46039f\"],[0.2222222222222222,\"#7201a8\"],[0.3333333333333333,\"#9c179e\"],[0.4444444444444444,\"#bd3786\"],[0.5555555555555556,\"#d8576b\"],[0.6666666666666666,\"#ed7953\"],[0.7777777777777778,\"#fb9f3a\"],[0.8888888888888888,\"#fdca26\"],[1.0,\"#f0f921\"]],\"diverging\":[[0,\"#8e0152\"],[0.1,\"#c51b7d\"],[0.2,\"#de77ae\"],[0.3,\"#f1b6da\"],[0.4,\"#fde0ef\"],[0.5,\"#f7f7f7\"],[0.6,\"#e6f5d0\"],[0.7,\"#b8e186\"],[0.8,\"#7fbc41\"],[0.9,\"#4d9221\"],[1,\"#276419\"]]},\"xaxis\":{\"gridcolor\":\"white\",\"linecolor\":\"white\",\"ticks\":\"\",\"title\":{\"standoff\":15},\"zerolinecolor\":\"white\",\"automargin\":true,\"zerolinewidth\":2},\"yaxis\":{\"gridcolor\":\"white\",\"linecolor\":\"white\",\"ticks\":\"\",\"title\":{\"standoff\":15},\"zerolinecolor\":\"white\",\"automargin\":true,\"zerolinewidth\":2},\"scene\":{\"xaxis\":{\"backgroundcolor\":\"#E5ECF6\",\"gridcolor\":\"white\",\"linecolor\":\"white\",\"showbackground\":true,\"ticks\":\"\",\"zerolinecolor\":\"white\",\"gridwidth\":2},\"yaxis\":{\"backgroundcolor\":\"#E5ECF6\",\"gridcolor\":\"white\",\"linecolor\":\"white\",\"showbackground\":true,\"ticks\":\"\",\"zerolinecolor\":\"white\",\"gridwidth\":2},\"zaxis\":{\"backgroundcolor\":\"#E5ECF6\",\"gridcolor\":\"white\",\"linecolor\":\"white\",\"showbackground\":true,\"ticks\":\"\",\"zerolinecolor\":\"white\",\"gridwidth\":2}},\"shapedefaults\":{\"line\":{\"color\":\"#2a3f5f\"}},\"annotationdefaults\":{\"arrowcolor\":\"#2a3f5f\",\"arrowhead\":0,\"arrowwidth\":1},\"geo\":{\"bgcolor\":\"white\",\"landcolor\":\"#E5ECF6\",\"subunitcolor\":\"white\",\"showland\":true,\"showlakes\":true,\"lakecolor\":\"white\"},\"title\":{\"x\":0.05},\"mapbox\":{\"style\":\"light\"}}},\"title\":{\"text\":\"Distribution of articles category-wise\",\"y\":0.9,\"x\":0.5,\"xanchor\":\"center\",\"yanchor\":\"top\"},\"xaxis\":{\"title\":{\"text\":\"Category name\"}},\"yaxis\":{\"title\":{\"text\":\"Number of articles\"}},\"width\":800,\"height\":700},                        {\"responsive\": true}                    ).then(function(){\n",
       "                            \n",
       "var gd = document.getElementById('af1e1155-cc43-4be2-be02-4a140de76c87');\n",
       "var x = new MutationObserver(function (mutations, observer) {{\n",
       "        var display = window.getComputedStyle(gd).display;\n",
       "        if (!display || display === 'none') {{\n",
       "            console.log([gd, 'removed!']);\n",
       "            Plotly.purge(gd);\n",
       "            observer.disconnect();\n",
       "        }}\n",
       "}});\n",
       "\n",
       "// Listen for the removal of the full notebook cells\n",
       "var notebookContainer = gd.closest('#notebook-container');\n",
       "if (notebookContainer) {{\n",
       "    x.observe(notebookContainer, {childList: true});\n",
       "}}\n",
       "\n",
       "// Listen for the clearing of the current output cell\n",
       "var outputEl = gd.closest('.output');\n",
       "if (outputEl) {{\n",
       "    x.observe(outputEl, {childList: true});\n",
       "}}\n",
       "\n",
       "                        })                };                });            </script>        </div>"
      ]
     },
     "metadata": {},
     "output_type": "display_data"
    }
   ],
   "source": [
    "fig = go.Figure([go.Bar(x=dataset[\"category\"].value_counts().index, y=dataset[\"category\"].value_counts().values)])\n",
    "fig['layout'].update(title={\"text\" : 'Distribution of articles category-wise','y':0.9,'x':0.5,'xanchor': 'center','yanchor': 'top'}, xaxis_title=\"Category name\",yaxis_title=\"Number of articles\")\n",
    "fig.update_layout(width=800,height=700)\n",
    "fig"
   ]
  },
  {
   "cell_type": "code",
   "execution_count": 10,
   "id": "0d15f596",
   "metadata": {},
   "outputs": [
    {
     "data": {
      "text/plain": [
       "date\n",
       "2018-01-31    2065\n",
       "2018-02-28    1694\n",
       "2018-03-31    1778\n",
       "2018-04-30    1580\n",
       "2018-05-31    1368\n",
       "Freq: M, Name: headline, dtype: int64"
      ]
     },
     "execution_count": 10,
     "metadata": {},
     "output_type": "execute_result"
    }
   ],
   "source": [
    "dataset_per_month = dataset.resample('m',on = 'date')['headline'].count()\n",
    "dataset_per_month"
   ]
  },
  {
   "cell_type": "code",
   "execution_count": 11,
   "id": "6018d8bb",
   "metadata": {},
   "outputs": [
    {
     "data": {
      "application/vnd.plotly.v1+json": {
       "config": {
        "plotlyServerURL": "https://plot.ly"
       },
       "data": [
        {
         "type": "bar",
         "x": [
          "Jan",
          "Feb",
          "Mar",
          "Apr",
          "May"
         ],
         "y": [
          2065,
          1694,
          1778,
          1580,
          1368
         ]
        }
       ],
       "layout": {
        "height": 500,
        "template": {
         "data": {
          "bar": [
           {
            "error_x": {
             "color": "#2a3f5f"
            },
            "error_y": {
             "color": "#2a3f5f"
            },
            "marker": {
             "line": {
              "color": "#E5ECF6",
              "width": 0.5
             },
             "pattern": {
              "fillmode": "overlay",
              "size": 10,
              "solidity": 0.2
             }
            },
            "type": "bar"
           }
          ],
          "barpolar": [
           {
            "marker": {
             "line": {
              "color": "#E5ECF6",
              "width": 0.5
             },
             "pattern": {
              "fillmode": "overlay",
              "size": 10,
              "solidity": 0.2
             }
            },
            "type": "barpolar"
           }
          ],
          "carpet": [
           {
            "aaxis": {
             "endlinecolor": "#2a3f5f",
             "gridcolor": "white",
             "linecolor": "white",
             "minorgridcolor": "white",
             "startlinecolor": "#2a3f5f"
            },
            "baxis": {
             "endlinecolor": "#2a3f5f",
             "gridcolor": "white",
             "linecolor": "white",
             "minorgridcolor": "white",
             "startlinecolor": "#2a3f5f"
            },
            "type": "carpet"
           }
          ],
          "choropleth": [
           {
            "colorbar": {
             "outlinewidth": 0,
             "ticks": ""
            },
            "type": "choropleth"
           }
          ],
          "contour": [
           {
            "colorbar": {
             "outlinewidth": 0,
             "ticks": ""
            },
            "colorscale": [
             [
              0,
              "#0d0887"
             ],
             [
              0.1111111111111111,
              "#46039f"
             ],
             [
              0.2222222222222222,
              "#7201a8"
             ],
             [
              0.3333333333333333,
              "#9c179e"
             ],
             [
              0.4444444444444444,
              "#bd3786"
             ],
             [
              0.5555555555555556,
              "#d8576b"
             ],
             [
              0.6666666666666666,
              "#ed7953"
             ],
             [
              0.7777777777777778,
              "#fb9f3a"
             ],
             [
              0.8888888888888888,
              "#fdca26"
             ],
             [
              1,
              "#f0f921"
             ]
            ],
            "type": "contour"
           }
          ],
          "contourcarpet": [
           {
            "colorbar": {
             "outlinewidth": 0,
             "ticks": ""
            },
            "type": "contourcarpet"
           }
          ],
          "heatmap": [
           {
            "colorbar": {
             "outlinewidth": 0,
             "ticks": ""
            },
            "colorscale": [
             [
              0,
              "#0d0887"
             ],
             [
              0.1111111111111111,
              "#46039f"
             ],
             [
              0.2222222222222222,
              "#7201a8"
             ],
             [
              0.3333333333333333,
              "#9c179e"
             ],
             [
              0.4444444444444444,
              "#bd3786"
             ],
             [
              0.5555555555555556,
              "#d8576b"
             ],
             [
              0.6666666666666666,
              "#ed7953"
             ],
             [
              0.7777777777777778,
              "#fb9f3a"
             ],
             [
              0.8888888888888888,
              "#fdca26"
             ],
             [
              1,
              "#f0f921"
             ]
            ],
            "type": "heatmap"
           }
          ],
          "heatmapgl": [
           {
            "colorbar": {
             "outlinewidth": 0,
             "ticks": ""
            },
            "colorscale": [
             [
              0,
              "#0d0887"
             ],
             [
              0.1111111111111111,
              "#46039f"
             ],
             [
              0.2222222222222222,
              "#7201a8"
             ],
             [
              0.3333333333333333,
              "#9c179e"
             ],
             [
              0.4444444444444444,
              "#bd3786"
             ],
             [
              0.5555555555555556,
              "#d8576b"
             ],
             [
              0.6666666666666666,
              "#ed7953"
             ],
             [
              0.7777777777777778,
              "#fb9f3a"
             ],
             [
              0.8888888888888888,
              "#fdca26"
             ],
             [
              1,
              "#f0f921"
             ]
            ],
            "type": "heatmapgl"
           }
          ],
          "histogram": [
           {
            "marker": {
             "pattern": {
              "fillmode": "overlay",
              "size": 10,
              "solidity": 0.2
             }
            },
            "type": "histogram"
           }
          ],
          "histogram2d": [
           {
            "colorbar": {
             "outlinewidth": 0,
             "ticks": ""
            },
            "colorscale": [
             [
              0,
              "#0d0887"
             ],
             [
              0.1111111111111111,
              "#46039f"
             ],
             [
              0.2222222222222222,
              "#7201a8"
             ],
             [
              0.3333333333333333,
              "#9c179e"
             ],
             [
              0.4444444444444444,
              "#bd3786"
             ],
             [
              0.5555555555555556,
              "#d8576b"
             ],
             [
              0.6666666666666666,
              "#ed7953"
             ],
             [
              0.7777777777777778,
              "#fb9f3a"
             ],
             [
              0.8888888888888888,
              "#fdca26"
             ],
             [
              1,
              "#f0f921"
             ]
            ],
            "type": "histogram2d"
           }
          ],
          "histogram2dcontour": [
           {
            "colorbar": {
             "outlinewidth": 0,
             "ticks": ""
            },
            "colorscale": [
             [
              0,
              "#0d0887"
             ],
             [
              0.1111111111111111,
              "#46039f"
             ],
             [
              0.2222222222222222,
              "#7201a8"
             ],
             [
              0.3333333333333333,
              "#9c179e"
             ],
             [
              0.4444444444444444,
              "#bd3786"
             ],
             [
              0.5555555555555556,
              "#d8576b"
             ],
             [
              0.6666666666666666,
              "#ed7953"
             ],
             [
              0.7777777777777778,
              "#fb9f3a"
             ],
             [
              0.8888888888888888,
              "#fdca26"
             ],
             [
              1,
              "#f0f921"
             ]
            ],
            "type": "histogram2dcontour"
           }
          ],
          "mesh3d": [
           {
            "colorbar": {
             "outlinewidth": 0,
             "ticks": ""
            },
            "type": "mesh3d"
           }
          ],
          "parcoords": [
           {
            "line": {
             "colorbar": {
              "outlinewidth": 0,
              "ticks": ""
             }
            },
            "type": "parcoords"
           }
          ],
          "pie": [
           {
            "automargin": true,
            "type": "pie"
           }
          ],
          "scatter": [
           {
            "fillpattern": {
             "fillmode": "overlay",
             "size": 10,
             "solidity": 0.2
            },
            "type": "scatter"
           }
          ],
          "scatter3d": [
           {
            "line": {
             "colorbar": {
              "outlinewidth": 0,
              "ticks": ""
             }
            },
            "marker": {
             "colorbar": {
              "outlinewidth": 0,
              "ticks": ""
             }
            },
            "type": "scatter3d"
           }
          ],
          "scattercarpet": [
           {
            "marker": {
             "colorbar": {
              "outlinewidth": 0,
              "ticks": ""
             }
            },
            "type": "scattercarpet"
           }
          ],
          "scattergeo": [
           {
            "marker": {
             "colorbar": {
              "outlinewidth": 0,
              "ticks": ""
             }
            },
            "type": "scattergeo"
           }
          ],
          "scattergl": [
           {
            "marker": {
             "colorbar": {
              "outlinewidth": 0,
              "ticks": ""
             }
            },
            "type": "scattergl"
           }
          ],
          "scattermapbox": [
           {
            "marker": {
             "colorbar": {
              "outlinewidth": 0,
              "ticks": ""
             }
            },
            "type": "scattermapbox"
           }
          ],
          "scatterpolar": [
           {
            "marker": {
             "colorbar": {
              "outlinewidth": 0,
              "ticks": ""
             }
            },
            "type": "scatterpolar"
           }
          ],
          "scatterpolargl": [
           {
            "marker": {
             "colorbar": {
              "outlinewidth": 0,
              "ticks": ""
             }
            },
            "type": "scatterpolargl"
           }
          ],
          "scatterternary": [
           {
            "marker": {
             "colorbar": {
              "outlinewidth": 0,
              "ticks": ""
             }
            },
            "type": "scatterternary"
           }
          ],
          "surface": [
           {
            "colorbar": {
             "outlinewidth": 0,
             "ticks": ""
            },
            "colorscale": [
             [
              0,
              "#0d0887"
             ],
             [
              0.1111111111111111,
              "#46039f"
             ],
             [
              0.2222222222222222,
              "#7201a8"
             ],
             [
              0.3333333333333333,
              "#9c179e"
             ],
             [
              0.4444444444444444,
              "#bd3786"
             ],
             [
              0.5555555555555556,
              "#d8576b"
             ],
             [
              0.6666666666666666,
              "#ed7953"
             ],
             [
              0.7777777777777778,
              "#fb9f3a"
             ],
             [
              0.8888888888888888,
              "#fdca26"
             ],
             [
              1,
              "#f0f921"
             ]
            ],
            "type": "surface"
           }
          ],
          "table": [
           {
            "cells": {
             "fill": {
              "color": "#EBF0F8"
             },
             "line": {
              "color": "white"
             }
            },
            "header": {
             "fill": {
              "color": "#C8D4E3"
             },
             "line": {
              "color": "white"
             }
            },
            "type": "table"
           }
          ]
         },
         "layout": {
          "annotationdefaults": {
           "arrowcolor": "#2a3f5f",
           "arrowhead": 0,
           "arrowwidth": 1
          },
          "autotypenumbers": "strict",
          "coloraxis": {
           "colorbar": {
            "outlinewidth": 0,
            "ticks": ""
           }
          },
          "colorscale": {
           "diverging": [
            [
             0,
             "#8e0152"
            ],
            [
             0.1,
             "#c51b7d"
            ],
            [
             0.2,
             "#de77ae"
            ],
            [
             0.3,
             "#f1b6da"
            ],
            [
             0.4,
             "#fde0ef"
            ],
            [
             0.5,
             "#f7f7f7"
            ],
            [
             0.6,
             "#e6f5d0"
            ],
            [
             0.7,
             "#b8e186"
            ],
            [
             0.8,
             "#7fbc41"
            ],
            [
             0.9,
             "#4d9221"
            ],
            [
             1,
             "#276419"
            ]
           ],
           "sequential": [
            [
             0,
             "#0d0887"
            ],
            [
             0.1111111111111111,
             "#46039f"
            ],
            [
             0.2222222222222222,
             "#7201a8"
            ],
            [
             0.3333333333333333,
             "#9c179e"
            ],
            [
             0.4444444444444444,
             "#bd3786"
            ],
            [
             0.5555555555555556,
             "#d8576b"
            ],
            [
             0.6666666666666666,
             "#ed7953"
            ],
            [
             0.7777777777777778,
             "#fb9f3a"
            ],
            [
             0.8888888888888888,
             "#fdca26"
            ],
            [
             1,
             "#f0f921"
            ]
           ],
           "sequentialminus": [
            [
             0,
             "#0d0887"
            ],
            [
             0.1111111111111111,
             "#46039f"
            ],
            [
             0.2222222222222222,
             "#7201a8"
            ],
            [
             0.3333333333333333,
             "#9c179e"
            ],
            [
             0.4444444444444444,
             "#bd3786"
            ],
            [
             0.5555555555555556,
             "#d8576b"
            ],
            [
             0.6666666666666666,
             "#ed7953"
            ],
            [
             0.7777777777777778,
             "#fb9f3a"
            ],
            [
             0.8888888888888888,
             "#fdca26"
            ],
            [
             1,
             "#f0f921"
            ]
           ]
          },
          "colorway": [
           "#636efa",
           "#EF553B",
           "#00cc96",
           "#ab63fa",
           "#FFA15A",
           "#19d3f3",
           "#FF6692",
           "#B6E880",
           "#FF97FF",
           "#FECB52"
          ],
          "font": {
           "color": "#2a3f5f"
          },
          "geo": {
           "bgcolor": "white",
           "lakecolor": "white",
           "landcolor": "#E5ECF6",
           "showlakes": true,
           "showland": true,
           "subunitcolor": "white"
          },
          "hoverlabel": {
           "align": "left"
          },
          "hovermode": "closest",
          "mapbox": {
           "style": "light"
          },
          "paper_bgcolor": "white",
          "plot_bgcolor": "#E5ECF6",
          "polar": {
           "angularaxis": {
            "gridcolor": "white",
            "linecolor": "white",
            "ticks": ""
           },
           "bgcolor": "#E5ECF6",
           "radialaxis": {
            "gridcolor": "white",
            "linecolor": "white",
            "ticks": ""
           }
          },
          "scene": {
           "xaxis": {
            "backgroundcolor": "#E5ECF6",
            "gridcolor": "white",
            "gridwidth": 2,
            "linecolor": "white",
            "showbackground": true,
            "ticks": "",
            "zerolinecolor": "white"
           },
           "yaxis": {
            "backgroundcolor": "#E5ECF6",
            "gridcolor": "white",
            "gridwidth": 2,
            "linecolor": "white",
            "showbackground": true,
            "ticks": "",
            "zerolinecolor": "white"
           },
           "zaxis": {
            "backgroundcolor": "#E5ECF6",
            "gridcolor": "white",
            "gridwidth": 2,
            "linecolor": "white",
            "showbackground": true,
            "ticks": "",
            "zerolinecolor": "white"
           }
          },
          "shapedefaults": {
           "line": {
            "color": "#2a3f5f"
           }
          },
          "ternary": {
           "aaxis": {
            "gridcolor": "white",
            "linecolor": "white",
            "ticks": ""
           },
           "baxis": {
            "gridcolor": "white",
            "linecolor": "white",
            "ticks": ""
           },
           "bgcolor": "#E5ECF6",
           "caxis": {
            "gridcolor": "white",
            "linecolor": "white",
            "ticks": ""
           }
          },
          "title": {
           "x": 0.05
          },
          "xaxis": {
           "automargin": true,
           "gridcolor": "white",
           "linecolor": "white",
           "ticks": "",
           "title": {
            "standoff": 15
           },
           "zerolinecolor": "white",
           "zerolinewidth": 2
          },
          "yaxis": {
           "automargin": true,
           "gridcolor": "white",
           "linecolor": "white",
           "ticks": "",
           "title": {
            "standoff": 15
           },
           "zerolinecolor": "white",
           "zerolinewidth": 2
          }
         }
        },
        "title": {
         "text": "Distribution of articles month-wise",
         "x": 0.5,
         "xanchor": "center",
         "y": 0.9,
         "yanchor": "top"
        },
        "width": 500,
        "xaxis": {
         "title": {
          "text": "Month"
         }
        },
        "yaxis": {
         "title": {
          "text": "Number of articles"
         }
        }
       }
      },
      "text/html": [
       "<div>                            <div id=\"935f71da-5487-4001-bce0-959e7758a45a\" class=\"plotly-graph-div\" style=\"height:500px; width:500px;\"></div>            <script type=\"text/javascript\">                require([\"plotly\"], function(Plotly) {                    window.PLOTLYENV=window.PLOTLYENV || {};                                    if (document.getElementById(\"935f71da-5487-4001-bce0-959e7758a45a\")) {                    Plotly.newPlot(                        \"935f71da-5487-4001-bce0-959e7758a45a\",                        [{\"x\":[\"Jan\",\"Feb\",\"Mar\",\"Apr\",\"May\"],\"y\":[2065,1694,1778,1580,1368],\"type\":\"bar\"}],                        {\"template\":{\"data\":{\"histogram2dcontour\":[{\"type\":\"histogram2dcontour\",\"colorbar\":{\"outlinewidth\":0,\"ticks\":\"\"},\"colorscale\":[[0.0,\"#0d0887\"],[0.1111111111111111,\"#46039f\"],[0.2222222222222222,\"#7201a8\"],[0.3333333333333333,\"#9c179e\"],[0.4444444444444444,\"#bd3786\"],[0.5555555555555556,\"#d8576b\"],[0.6666666666666666,\"#ed7953\"],[0.7777777777777778,\"#fb9f3a\"],[0.8888888888888888,\"#fdca26\"],[1.0,\"#f0f921\"]]}],\"choropleth\":[{\"type\":\"choropleth\",\"colorbar\":{\"outlinewidth\":0,\"ticks\":\"\"}}],\"histogram2d\":[{\"type\":\"histogram2d\",\"colorbar\":{\"outlinewidth\":0,\"ticks\":\"\"},\"colorscale\":[[0.0,\"#0d0887\"],[0.1111111111111111,\"#46039f\"],[0.2222222222222222,\"#7201a8\"],[0.3333333333333333,\"#9c179e\"],[0.4444444444444444,\"#bd3786\"],[0.5555555555555556,\"#d8576b\"],[0.6666666666666666,\"#ed7953\"],[0.7777777777777778,\"#fb9f3a\"],[0.8888888888888888,\"#fdca26\"],[1.0,\"#f0f921\"]]}],\"heatmap\":[{\"type\":\"heatmap\",\"colorbar\":{\"outlinewidth\":0,\"ticks\":\"\"},\"colorscale\":[[0.0,\"#0d0887\"],[0.1111111111111111,\"#46039f\"],[0.2222222222222222,\"#7201a8\"],[0.3333333333333333,\"#9c179e\"],[0.4444444444444444,\"#bd3786\"],[0.5555555555555556,\"#d8576b\"],[0.6666666666666666,\"#ed7953\"],[0.7777777777777778,\"#fb9f3a\"],[0.8888888888888888,\"#fdca26\"],[1.0,\"#f0f921\"]]}],\"heatmapgl\":[{\"type\":\"heatmapgl\",\"colorbar\":{\"outlinewidth\":0,\"ticks\":\"\"},\"colorscale\":[[0.0,\"#0d0887\"],[0.1111111111111111,\"#46039f\"],[0.2222222222222222,\"#7201a8\"],[0.3333333333333333,\"#9c179e\"],[0.4444444444444444,\"#bd3786\"],[0.5555555555555556,\"#d8576b\"],[0.6666666666666666,\"#ed7953\"],[0.7777777777777778,\"#fb9f3a\"],[0.8888888888888888,\"#fdca26\"],[1.0,\"#f0f921\"]]}],\"contourcarpet\":[{\"type\":\"contourcarpet\",\"colorbar\":{\"outlinewidth\":0,\"ticks\":\"\"}}],\"contour\":[{\"type\":\"contour\",\"colorbar\":{\"outlinewidth\":0,\"ticks\":\"\"},\"colorscale\":[[0.0,\"#0d0887\"],[0.1111111111111111,\"#46039f\"],[0.2222222222222222,\"#7201a8\"],[0.3333333333333333,\"#9c179e\"],[0.4444444444444444,\"#bd3786\"],[0.5555555555555556,\"#d8576b\"],[0.6666666666666666,\"#ed7953\"],[0.7777777777777778,\"#fb9f3a\"],[0.8888888888888888,\"#fdca26\"],[1.0,\"#f0f921\"]]}],\"surface\":[{\"type\":\"surface\",\"colorbar\":{\"outlinewidth\":0,\"ticks\":\"\"},\"colorscale\":[[0.0,\"#0d0887\"],[0.1111111111111111,\"#46039f\"],[0.2222222222222222,\"#7201a8\"],[0.3333333333333333,\"#9c179e\"],[0.4444444444444444,\"#bd3786\"],[0.5555555555555556,\"#d8576b\"],[0.6666666666666666,\"#ed7953\"],[0.7777777777777778,\"#fb9f3a\"],[0.8888888888888888,\"#fdca26\"],[1.0,\"#f0f921\"]]}],\"mesh3d\":[{\"type\":\"mesh3d\",\"colorbar\":{\"outlinewidth\":0,\"ticks\":\"\"}}],\"scatter\":[{\"fillpattern\":{\"fillmode\":\"overlay\",\"size\":10,\"solidity\":0.2},\"type\":\"scatter\"}],\"parcoords\":[{\"type\":\"parcoords\",\"line\":{\"colorbar\":{\"outlinewidth\":0,\"ticks\":\"\"}}}],\"scatterpolargl\":[{\"type\":\"scatterpolargl\",\"marker\":{\"colorbar\":{\"outlinewidth\":0,\"ticks\":\"\"}}}],\"bar\":[{\"error_x\":{\"color\":\"#2a3f5f\"},\"error_y\":{\"color\":\"#2a3f5f\"},\"marker\":{\"line\":{\"color\":\"#E5ECF6\",\"width\":0.5},\"pattern\":{\"fillmode\":\"overlay\",\"size\":10,\"solidity\":0.2}},\"type\":\"bar\"}],\"scattergeo\":[{\"type\":\"scattergeo\",\"marker\":{\"colorbar\":{\"outlinewidth\":0,\"ticks\":\"\"}}}],\"scatterpolar\":[{\"type\":\"scatterpolar\",\"marker\":{\"colorbar\":{\"outlinewidth\":0,\"ticks\":\"\"}}}],\"histogram\":[{\"marker\":{\"pattern\":{\"fillmode\":\"overlay\",\"size\":10,\"solidity\":0.2}},\"type\":\"histogram\"}],\"scattergl\":[{\"type\":\"scattergl\",\"marker\":{\"colorbar\":{\"outlinewidth\":0,\"ticks\":\"\"}}}],\"scatter3d\":[{\"type\":\"scatter3d\",\"line\":{\"colorbar\":{\"outlinewidth\":0,\"ticks\":\"\"}},\"marker\":{\"colorbar\":{\"outlinewidth\":0,\"ticks\":\"\"}}}],\"scattermapbox\":[{\"type\":\"scattermapbox\",\"marker\":{\"colorbar\":{\"outlinewidth\":0,\"ticks\":\"\"}}}],\"scatterternary\":[{\"type\":\"scatterternary\",\"marker\":{\"colorbar\":{\"outlinewidth\":0,\"ticks\":\"\"}}}],\"scattercarpet\":[{\"type\":\"scattercarpet\",\"marker\":{\"colorbar\":{\"outlinewidth\":0,\"ticks\":\"\"}}}],\"carpet\":[{\"aaxis\":{\"endlinecolor\":\"#2a3f5f\",\"gridcolor\":\"white\",\"linecolor\":\"white\",\"minorgridcolor\":\"white\",\"startlinecolor\":\"#2a3f5f\"},\"baxis\":{\"endlinecolor\":\"#2a3f5f\",\"gridcolor\":\"white\",\"linecolor\":\"white\",\"minorgridcolor\":\"white\",\"startlinecolor\":\"#2a3f5f\"},\"type\":\"carpet\"}],\"table\":[{\"cells\":{\"fill\":{\"color\":\"#EBF0F8\"},\"line\":{\"color\":\"white\"}},\"header\":{\"fill\":{\"color\":\"#C8D4E3\"},\"line\":{\"color\":\"white\"}},\"type\":\"table\"}],\"barpolar\":[{\"marker\":{\"line\":{\"color\":\"#E5ECF6\",\"width\":0.5},\"pattern\":{\"fillmode\":\"overlay\",\"size\":10,\"solidity\":0.2}},\"type\":\"barpolar\"}],\"pie\":[{\"automargin\":true,\"type\":\"pie\"}]},\"layout\":{\"autotypenumbers\":\"strict\",\"colorway\":[\"#636efa\",\"#EF553B\",\"#00cc96\",\"#ab63fa\",\"#FFA15A\",\"#19d3f3\",\"#FF6692\",\"#B6E880\",\"#FF97FF\",\"#FECB52\"],\"font\":{\"color\":\"#2a3f5f\"},\"hovermode\":\"closest\",\"hoverlabel\":{\"align\":\"left\"},\"paper_bgcolor\":\"white\",\"plot_bgcolor\":\"#E5ECF6\",\"polar\":{\"bgcolor\":\"#E5ECF6\",\"angularaxis\":{\"gridcolor\":\"white\",\"linecolor\":\"white\",\"ticks\":\"\"},\"radialaxis\":{\"gridcolor\":\"white\",\"linecolor\":\"white\",\"ticks\":\"\"}},\"ternary\":{\"bgcolor\":\"#E5ECF6\",\"aaxis\":{\"gridcolor\":\"white\",\"linecolor\":\"white\",\"ticks\":\"\"},\"baxis\":{\"gridcolor\":\"white\",\"linecolor\":\"white\",\"ticks\":\"\"},\"caxis\":{\"gridcolor\":\"white\",\"linecolor\":\"white\",\"ticks\":\"\"}},\"coloraxis\":{\"colorbar\":{\"outlinewidth\":0,\"ticks\":\"\"}},\"colorscale\":{\"sequential\":[[0.0,\"#0d0887\"],[0.1111111111111111,\"#46039f\"],[0.2222222222222222,\"#7201a8\"],[0.3333333333333333,\"#9c179e\"],[0.4444444444444444,\"#bd3786\"],[0.5555555555555556,\"#d8576b\"],[0.6666666666666666,\"#ed7953\"],[0.7777777777777778,\"#fb9f3a\"],[0.8888888888888888,\"#fdca26\"],[1.0,\"#f0f921\"]],\"sequentialminus\":[[0.0,\"#0d0887\"],[0.1111111111111111,\"#46039f\"],[0.2222222222222222,\"#7201a8\"],[0.3333333333333333,\"#9c179e\"],[0.4444444444444444,\"#bd3786\"],[0.5555555555555556,\"#d8576b\"],[0.6666666666666666,\"#ed7953\"],[0.7777777777777778,\"#fb9f3a\"],[0.8888888888888888,\"#fdca26\"],[1.0,\"#f0f921\"]],\"diverging\":[[0,\"#8e0152\"],[0.1,\"#c51b7d\"],[0.2,\"#de77ae\"],[0.3,\"#f1b6da\"],[0.4,\"#fde0ef\"],[0.5,\"#f7f7f7\"],[0.6,\"#e6f5d0\"],[0.7,\"#b8e186\"],[0.8,\"#7fbc41\"],[0.9,\"#4d9221\"],[1,\"#276419\"]]},\"xaxis\":{\"gridcolor\":\"white\",\"linecolor\":\"white\",\"ticks\":\"\",\"title\":{\"standoff\":15},\"zerolinecolor\":\"white\",\"automargin\":true,\"zerolinewidth\":2},\"yaxis\":{\"gridcolor\":\"white\",\"linecolor\":\"white\",\"ticks\":\"\",\"title\":{\"standoff\":15},\"zerolinecolor\":\"white\",\"automargin\":true,\"zerolinewidth\":2},\"scene\":{\"xaxis\":{\"backgroundcolor\":\"#E5ECF6\",\"gridcolor\":\"white\",\"linecolor\":\"white\",\"showbackground\":true,\"ticks\":\"\",\"zerolinecolor\":\"white\",\"gridwidth\":2},\"yaxis\":{\"backgroundcolor\":\"#E5ECF6\",\"gridcolor\":\"white\",\"linecolor\":\"white\",\"showbackground\":true,\"ticks\":\"\",\"zerolinecolor\":\"white\",\"gridwidth\":2},\"zaxis\":{\"backgroundcolor\":\"#E5ECF6\",\"gridcolor\":\"white\",\"linecolor\":\"white\",\"showbackground\":true,\"ticks\":\"\",\"zerolinecolor\":\"white\",\"gridwidth\":2}},\"shapedefaults\":{\"line\":{\"color\":\"#2a3f5f\"}},\"annotationdefaults\":{\"arrowcolor\":\"#2a3f5f\",\"arrowhead\":0,\"arrowwidth\":1},\"geo\":{\"bgcolor\":\"white\",\"landcolor\":\"#E5ECF6\",\"subunitcolor\":\"white\",\"showland\":true,\"showlakes\":true,\"lakecolor\":\"white\"},\"title\":{\"x\":0.05},\"mapbox\":{\"style\":\"light\"}}},\"title\":{\"text\":\"Distribution of articles month-wise\",\"y\":0.9,\"x\":0.5,\"xanchor\":\"center\",\"yanchor\":\"top\"},\"xaxis\":{\"title\":{\"text\":\"Month\"}},\"yaxis\":{\"title\":{\"text\":\"Number of articles\"}},\"width\":500,\"height\":500},                        {\"responsive\": true}                    ).then(function(){\n",
       "                            \n",
       "var gd = document.getElementById('935f71da-5487-4001-bce0-959e7758a45a');\n",
       "var x = new MutationObserver(function (mutations, observer) {{\n",
       "        var display = window.getComputedStyle(gd).display;\n",
       "        if (!display || display === 'none') {{\n",
       "            console.log([gd, 'removed!']);\n",
       "            Plotly.purge(gd);\n",
       "            observer.disconnect();\n",
       "        }}\n",
       "}});\n",
       "\n",
       "// Listen for the removal of the full notebook cells\n",
       "var notebookContainer = gd.closest('#notebook-container');\n",
       "if (notebookContainer) {{\n",
       "    x.observe(notebookContainer, {childList: true});\n",
       "}}\n",
       "\n",
       "// Listen for the clearing of the current output cell\n",
       "var outputEl = gd.closest('.output');\n",
       "if (outputEl) {{\n",
       "    x.observe(outputEl, {childList: true});\n",
       "}}\n",
       "\n",
       "                        })                };                });            </script>        </div>"
      ]
     },
     "metadata": {},
     "output_type": "display_data"
    }
   ],
   "source": [
    "fig = go.Figure([go.Bar(x=dataset_per_month.index.strftime(\"%b\"), y=dataset_per_month)])\n",
    "fig['layout'].update(title={\"text\" : 'Distribution of articles month-wise','y':0.9,'x':0.5,'xanchor': 'center','yanchor': 'top'}, xaxis_title=\"Month\",yaxis_title=\"Number of articles\")\n",
    "fig.update_layout(width=500,height=500)\n",
    "fig"
   ]
  },
  {
   "cell_type": "code",
   "execution_count": 12,
   "id": "5ede5df8",
   "metadata": {},
   "outputs": [
    {
     "data": {
      "application/vnd.plotly.v1+json": {
       "config": {
        "plotlyServerURL": "https://plot.ly"
       },
       "data": [
        {
         "legendgroup": "ht",
         "marker": {
          "color": "rgb(31, 119, 180)"
         },
         "mode": "lines",
         "name": "ht",
         "showlegend": true,
         "type": "scatter",
         "x": [
          25,
          25.21,
          25.42,
          25.63,
          25.84,
          26.05,
          26.26,
          26.47,
          26.68,
          26.89,
          27.1,
          27.31,
          27.52,
          27.73,
          27.94,
          28.15,
          28.36,
          28.57,
          28.78,
          28.990000000000002,
          29.2,
          29.41,
          29.62,
          29.83,
          30.04,
          30.25,
          30.46,
          30.67,
          30.88,
          31.09,
          31.3,
          31.509999999999998,
          31.72,
          31.93,
          32.14,
          32.35,
          32.56,
          32.769999999999996,
          32.980000000000004,
          33.19,
          33.4,
          33.61,
          33.82,
          34.03,
          34.24,
          34.45,
          34.66,
          34.87,
          35.08,
          35.29,
          35.5,
          35.71,
          35.92,
          36.13,
          36.34,
          36.55,
          36.76,
          36.97,
          37.18,
          37.39,
          37.6,
          37.81,
          38.019999999999996,
          38.230000000000004,
          38.44,
          38.65,
          38.86,
          39.07,
          39.28,
          39.49,
          39.7,
          39.91,
          40.12,
          40.33,
          40.54,
          40.75,
          40.96,
          41.17,
          41.379999999999995,
          41.59,
          41.8,
          42.010000000000005,
          42.22,
          42.43,
          42.64,
          42.85,
          43.06,
          43.269999999999996,
          43.480000000000004,
          43.69,
          43.9,
          44.11,
          44.32,
          44.53,
          44.739999999999995,
          44.95,
          45.16,
          45.370000000000005,
          45.58,
          45.79,
          46,
          46.21,
          46.42,
          46.629999999999995,
          46.84,
          47.05,
          47.260000000000005,
          47.47,
          47.68,
          47.89,
          48.1,
          48.31,
          48.519999999999996,
          48.730000000000004,
          48.94,
          49.15,
          49.36,
          49.57,
          49.78,
          49.989999999999995,
          50.2,
          50.41,
          50.620000000000005,
          50.83,
          51.04,
          51.25,
          51.46,
          51.67,
          51.879999999999995,
          52.09,
          52.3,
          52.510000000000005,
          52.72,
          52.93,
          53.14,
          53.35,
          53.56,
          53.769999999999996,
          53.980000000000004,
          54.19,
          54.4,
          54.61,
          54.82,
          55.03,
          55.239999999999995,
          55.45,
          55.66,
          55.870000000000005,
          56.08,
          56.29,
          56.5,
          56.71,
          56.92,
          57.13,
          57.34,
          57.55,
          57.76,
          57.97,
          58.18,
          58.39,
          58.6,
          58.81,
          59.02,
          59.23,
          59.44,
          59.65,
          59.86,
          60.07,
          60.28,
          60.49,
          60.7,
          60.91,
          61.12,
          61.33,
          61.54,
          61.75,
          61.96,
          62.17,
          62.38,
          62.59,
          62.8,
          63.01,
          63.22,
          63.43,
          63.64,
          63.85,
          64.06,
          64.27000000000001,
          64.47999999999999,
          64.69,
          64.9,
          65.11,
          65.32,
          65.53,
          65.74000000000001,
          65.95,
          66.16,
          66.37,
          66.58,
          66.78999999999999,
          67,
          67.21000000000001,
          67.42,
          67.63,
          67.84,
          68.05,
          68.25999999999999,
          68.47,
          68.68,
          68.89,
          69.1,
          69.31,
          69.52000000000001,
          69.72999999999999,
          69.94,
          70.15,
          70.36,
          70.57,
          70.78,
          70.99000000000001,
          71.2,
          71.41,
          71.62,
          71.83,
          72.03999999999999,
          72.25,
          72.46000000000001,
          72.67,
          72.88,
          73.09,
          73.3,
          73.50999999999999,
          73.72,
          73.93,
          74.14,
          74.35,
          74.56,
          74.77000000000001,
          74.97999999999999,
          75.19,
          75.4,
          75.61,
          75.82,
          76.03,
          76.24000000000001,
          76.45,
          76.66,
          76.87,
          77.08,
          77.28999999999999,
          77.5,
          77.71000000000001,
          77.92,
          78.13,
          78.34,
          78.55,
          78.75999999999999,
          78.97,
          79.18,
          79.39,
          79.6,
          79.81,
          80.02000000000001,
          80.22999999999999,
          80.44,
          80.65,
          80.86,
          81.07,
          81.28,
          81.49000000000001,
          81.7,
          81.91,
          82.12,
          82.33,
          82.53999999999999,
          82.75,
          82.96000000000001,
          83.17,
          83.38,
          83.59,
          83.8,
          84.00999999999999,
          84.22,
          84.43,
          84.64,
          84.85,
          85.06,
          85.27000000000001,
          85.47999999999999,
          85.69,
          85.9,
          86.11,
          86.32,
          86.53,
          86.74000000000001,
          86.95,
          87.16,
          87.37,
          87.58,
          87.78999999999999,
          88,
          88.21000000000001,
          88.42,
          88.63,
          88.84,
          89.05,
          89.26,
          89.47,
          89.68,
          89.89,
          90.1,
          90.31,
          90.52,
          90.73,
          90.94,
          91.15,
          91.36,
          91.57,
          91.78,
          91.99,
          92.2,
          92.41,
          92.62,
          92.83,
          93.04,
          93.25,
          93.46,
          93.67,
          93.88,
          94.09,
          94.3,
          94.51,
          94.72,
          94.93,
          95.14,
          95.35,
          95.56,
          95.77,
          95.98,
          96.19,
          96.4,
          96.61,
          96.82,
          97.03,
          97.24,
          97.45,
          97.66,
          97.87,
          98.08,
          98.29,
          98.5,
          98.71,
          98.92,
          99.13,
          99.34,
          99.55,
          99.76,
          99.97,
          100.18,
          100.39,
          100.6,
          100.81,
          101.02,
          101.23,
          101.44,
          101.65,
          101.86,
          102.07,
          102.28,
          102.49,
          102.7,
          102.91,
          103.12,
          103.33,
          103.54,
          103.75,
          103.96,
          104.17,
          104.38,
          104.59,
          104.8,
          105.01,
          105.22,
          105.43,
          105.64,
          105.85,
          106.06,
          106.27,
          106.48,
          106.69,
          106.9,
          107.11,
          107.32,
          107.53,
          107.74,
          107.95,
          108.16,
          108.37,
          108.58,
          108.79,
          109,
          109.21,
          109.42,
          109.63,
          109.84,
          110.05,
          110.26,
          110.47,
          110.68,
          110.89,
          111.1,
          111.31,
          111.52,
          111.73,
          111.94,
          112.15,
          112.36,
          112.57,
          112.78,
          112.99,
          113.2,
          113.41,
          113.62,
          113.83,
          114.04,
          114.25,
          114.46,
          114.67,
          114.88,
          115.09,
          115.3,
          115.51,
          115.72,
          115.93,
          116.14,
          116.35,
          116.56,
          116.77,
          116.98,
          117.19,
          117.4,
          117.61,
          117.82,
          118.03,
          118.24,
          118.45,
          118.66,
          118.87,
          119.08,
          119.29,
          119.5,
          119.71,
          119.92,
          120.13,
          120.34,
          120.55,
          120.76,
          120.97,
          121.18,
          121.39,
          121.6,
          121.81,
          122.02,
          122.23,
          122.44,
          122.65,
          122.86,
          123.07,
          123.28,
          123.49,
          123.7,
          123.91,
          124.12,
          124.33,
          124.54,
          124.75,
          124.96,
          125.17,
          125.38,
          125.59,
          125.8,
          126.01,
          126.22,
          126.43,
          126.64,
          126.85,
          127.06,
          127.27,
          127.48,
          127.69,
          127.9,
          128.11,
          128.32,
          128.53,
          128.74,
          128.95,
          129.16,
          129.37,
          129.57999999999998,
          129.79000000000002
         ],
         "xaxis": "x",
         "y": [
          9.73222809794197e-05,
          0.00010289294173043314,
          0.0001079911100881084,
          0.00011260703214098645,
          0.00011676521672626998,
          0.00012052443404277762,
          0.00012397538634010722,
          0.00012723618919142435,
          0.00013044601388804487,
          0.000133757425781797,
          0.00013732808770701815,
          0.0001413125646953496,
          0.00014585495625850495,
          0.00015108299475587742,
          0.00015710409136447898,
          0.00016400360202237251,
          0.00017184534800748782,
          0.00018067418669417113,
          0.00019052021480249986,
          0.00020140402313252728,
          0.00021334232609750148,
          0.00022635327069551534,
          0.00024046078791084351,
          0.0002556974759121888,
          0.000272105682286048,
          0.00028973666028530215,
          0.00030864788794536204,
          0.00032889883613293296,
          0.00035054563300781783,
          0.0003736351844682658,
          0.00039819936597322906,
          0.0004242499002642108,
          0.00045177448303599364,
          0.0004807346234812,
          0.0005110655397327096,
          0.0005426783015217944,
          0.0005754642535686814,
          0.0006093015911078737,
          0.0006440637994711964,
          0.000679629517666029,
          0.0007158932462978076,
          0.0007527761991068213,
          0.0007902365029600776,
          0.0008282778936821711,
          0.0008669560464425814,
          0.0009063817313192143,
          0.0009467201066828637,
          0.0009881856600432756,
          0.0010310325757969109,
          0.0010755406410782363,
          0.0011219971745356195,
          0.001170675849703732,
          0.0012218136497025073,
          0.0012755874951787044,
          0.001332092295751824,
          0.0013913222553550725,
          0.001453157192170276,
          0.0015173554058315743,
          0.0015835542447891814,
          0.0016512790172230696,
          0.0017199602858757248,
          0.0017889589381199912,
          0.001857597782134737,
          0.0019251978450613525,
          0.0019911170931635625,
          0.002054789002734508,
          0.002115758316366668,
          0.002173711438427882,
          0.002228499253804729,
          0.0022801506736309617,
          0.0023288758812077134,
          0.002375059015852013,
          0.0024192408265476975,
          0.0024620925808382125,
          0.0025043831592619728,
          0.002546941742738388,
          0.0025906187661888127,
          0.0026362478435214545,
          0.002684611167769089,
          0.002736410480404388,
          0.0027922451317172418,
          0.0028525980816031683,
          0.0029178299876806454,
          0.002988180865828657,
          0.0030637782491241762,
          0.0031446503614336314,
          0.003230742588116631,
          0.0033219354731721623,
          0.0034180625840683166,
          0.0035189268306353863,
          0.003624314160809797,
          0.003734003938424582,
          0.0038477756944218402,
          0.003965412298613427,
          0.0040866999010854155,
          0.00421142522859433,
          0.004339370989785063,
          0.004470310248614499,
          0.004604000676070469,
          0.004740179594037206,
          0.004878560687100155,
          0.005018833179416427,
          0.00516066415206254,
          0.005303704507085359,
          0.0054475988639806384,
          0.005591999402170727,
          0.005736583345123316,
          0.005881073432008805,
          0.006025260363911723,
          0.006169025874102857,
          0.0063123647916378065,
          0.006455404282033051,
          0.006598418392226909,
          0.006741836125386474,
          0.006886241537279422,
          0.0070323647762135545,
          0.007181063561117995,
          0.007333295267788704,
          0.007490080517859909,
          0.007652459875827129,
          0.00782144589126858,
          0.007997973216307538,
          0.008182849834168442,
          0.008376712522458637,
          0.008579989533533634,
          0.008792873113195203,
          0.00901530392510279,
          0.00924696874253117,
          0.00948731196104773,
          0.009735560628682983,
          0.0099907618372791,
          0.01025183052011887,
          0.01051760500262711,
          0.010786907096456747,
          0.011058603149528855,
          0.011331662297469257,
          0.011605208230136608,
          0.011878561105487838,
          0.012151266812629498,
          0.012423111589061992,
          0.012694120994731417,
          0.012964543375685896,
          0.013234819130026944,
          0.013505538220133534,
          0.013777389352449322,
          0.014051104968682202,
          0.014327406575627992,
          0.014606954929138025,
          0.014890309162504996,
          0.015177898135180647,
          0.015470006141946057,
          0.015766773770997364,
          0.016068213265524774,
          0.016374236374476308,
          0.016684691518567146,
          0.01699940627148417,
          0.017318230752446165,
          0.017641077586451403,
          0.01796795460104353,
          0.01829898732834616,
          0.018634429557295953,
          0.018974661489411057,
          0.01932017633264175,
          0.01967155726804684,
          0.020029447514966697,
          0.020394516616891553,
          0.020767426042014675,
          0.02114879676819384,
          0.021539180785107567,
          0.021939037522797994,
          0.022348715255113002,
          0.022768436679749617,
          0.023198287273162744,
          0.02363820474701491,
          0.02408796802763644,
          0.024547184617155087,
          0.02501527589671938,
          0.025491460780110026,
          0.025974738980354628,
          0.026463875873961738,
          0.026957391420793772,
          0.0274535557454949,
          0.027950393781386366,
          0.02844570084350038,
          0.028937070202339356,
          0.02942193277376901,
          0.02989760803798276,
          0.03036136436327443,
          0.03081048613260194,
          0.031242344517976698,
          0.031654468452548816,
          0.0320446123143549,
          0.032410817035092826,
          0.032751461741798826,
          0.03306530358111695,
          0.03335150401789773,
          0.03360964060063171,
          0.03383970391074751,
          0.03404208013312008,
          0.03421752037502869,
          0.0343670984950243,
          0.03449215975301996,
          0.03459426302773439,
          0.0346751196356613,
          0.034736531898936836,
          0.03478033452846434,
          0.03480834160788629,
          0.03482230149511879,
          0.0348238613325281,
          0.034814542122300236,
          0.03479572454255258,
          0.034768644920015176,
          0.034734400104582966,
          0.034693959467105656,
          0.03464818190597831,
          0.0345978356200548,
          0.03454361848054058,
          0.03448617708543417,
          0.03442612296000707,
          0.03436404481670899,
          0.03430051624547852,
          0.034236098613604396,
          0.03417133927113401,
          0.03410676536197941,
          0.03404287363556757,
          0.033980116665753984,
          0.03391888585739827,
          0.03385949161050403,
          0.033802141068671035,
          0.033746914039853304,
          0.033693737955633615,
          0.033642363111522904,
          0.033592339854428714,
          0.033542999776624706,
          0.03349344324555117,
          0.03344253565279699,
          0.03338891452964063,
          0.033331009110940585,
          0.033267073042108276,
          0.033195229776246615,
          0.03311352891120286,
          0.03302001041919107,
          0.03291277259418361,
          0.03279003875076742,
          0.032650217390273274,
          0.0324919507932013,
          0.03231414782228887,
          0.032115998075175387,
          0.03189696628599708,
          0.03165676785942763,
          0.03139532840969255,
          0.031112731940791314,
          0.030809163630147417,
          0.03048485389723786,
          0.030140030447837234,
          0.029774884258076877,
          0.029389554058132213,
          0.02898413192783338,
          0.028558690323911833,
          0.028113328460754112,
          0.027648233719777662,
          0.02716375191099495,
          0.026660458960735697,
          0.026139226097117135,
          0.02560127091776525,
          0.025048187834743774,
          0.024481953196029062,
          0.02390490270252255,
          0.023319681337981225,
          0.022729168637987938,
          0.022136384471377873,
          0.02154438234872724,
          0.020956138417276997,
          0.02037444463581944,
          0.019801814121210803,
          0.019240405386406617,
          0.018691970297470276,
          0.018157828278102948,
          0.017638866838481527,
          0.01713556616335561,
          0.016648043504010508,
          0.016176111672693824,
          0.01571934516010984,
          0.01527714732942822,
          0.014848812744908544,
          0.014433579857273483,
          0.014030670823764281,
          0.013639316988310671,
          0.01325877028066909,
          0.012888302326087923,
          0.012527194242450546,
          0.012174720847277068,
          0.011830133269427048,
          0.011492643783330241,
          0.011161416127204027,
          0.010835563732359438,
          0.01051415729383021,
          0.010196242066320698,
          0.009880864271726878,
          0.009567105129928748,
          0.009254120322126918,
          0.00894118219153511,
          0.008627721687831802,
          0.008313366966764301,
          0.007997975657063042,
          0.007681658094299946,
          0.007364789285351383,
          0.007048007993846776,
          0.006732202104634057,
          0.006418480299636405,
          0.006108131009088601,
          0.005802570526528619,
          0.005503283017466804,
          0.005211755831083538,
          0.004929413968672572,
          0.00465755771592171,
          0.004397307279183384,
          0.004149557782280015,
          0.003914947218549112,
          0.003693838982857189,
          0.0034863195237826066,
          0.0032922105626565293,
          0.003111094327683966,
          0.0029423494374657628,
          0.002785194503162776,
          0.0026387362346690538,
          0.0025020188321503325,
          0.002374071688218228,
          0.0022539528625630393,
          0.002140786351370801,
          0.002033791787104578,
          0.0019323058064953452,
          0.001835794867114955,
          0.0017438597460322433,
          0.001656232307547066,
          0.0015727653870142345,
          0.0014934168213911522,
          0.0014182287857849934,
          0.0013473036883659302,
          0.0012807779461312012,
          0.0012187950143472187,
          0.001161479066894896,
          0.0011089107100685706,
          0.0010611060426132643,
          0.0010180002357692462,
          0.0009794365909742615,
          0.0009451617412691762,
          0.0009148273077987437,
          0.0008879979276191915,
          0.000864165163365393,
          0.0008427664228704066,
          0.0008232076904275819,
          0.0008048886288531586,
          0.0007872284723009802,
          0.000769691103073494,
          0.0007518077899657589,
          0.0007331962498517713,
          0.0007135749596599382,
          0.0006927719691850059,
          0.0006707278209625428,
          0.0006474925467645255,
          0.0006232170585282163,
          0.000598139565476732,
          0.000572567913472164,
          0.0005468589457930345,
          0.0005213961187532778,
          0.000496566666534419,
          0.0004727395962692982,
          0.00045024570912913676,
          0.00042936069170518184,
          0.00041029211359843647,
          0.0003931709144061239,
          0.0003780476816242836,
          0.0003648937277820786,
          0.0003536066886674443,
          0.00034402010263421515,
          0.0003359162097564682,
          0.0003290410421150178,
          0.0003231207720176881,
          0.0003178782483719536,
          0.00031304868317803147,
          0.00030839354637035067,
          0.0003037118803903544,
          0.0002988484451190277,
          0.0002936983358102923,
          0.00028820796629658606,
          0.0002823725607288076,
          0.0002762305328776223,
          0.00026985533652134106,
          0.0002633455291811944,
          0.0002568138925817515,
          0.0002503764886158468,
          0.0002441424959513785,
          0.00023820557190956424,
          0.00023263732484959845,
          0.00022748327751375625,
          0.0002227614697184021,
          0.0002184636105756431,
          0.00021455846827693524,
          0.00021099700025927588,
          0.00020771859561858326,
          0.00020465773667459257,
          0.00020175039240560844,
          0.00019893953028984158,
          0.00019617926491958068,
          0.0001934373355903794,
          0.0001906958008398906,
          0.00018795003390522104,
          0.00018520627848892153,
          0.00018247816155960228,
          0.0001797826467839828,
          0.00017713594246000712,
          0.00017454985188165343,
          0.00017202897827684984,
          0.0001695690819421052,
          0.0001671567481766834,
          0.0001647703766003322,
          0.00016238236047374824,
          0.00015996220189833966,
          0.00015748021553024832,
          0.0001549114165467422,
          0.00015223917132588084,
          0.00014945821152738008,
          0.00014657667085985203,
          0.00014361689309518882,
          0.00014061487207965597,
          0.00013761831024487162,
          0.00013468341102671686,
          0.0001318706417661878,
          0.0001292398064237721,
          0.00012684484215216195,
          0.00012472879272939068,
          0.00012291941014931312,
          0.00012142579194297253,
          0.00012023637872842509,
          0.00011931852081538279,
          0.00011861968486409233,
          0.00011807022483437207,
          0.00011758750043086175,
          0.00011708100546200686,
          0.00011645808062965419,
          0.0001156297394832164,
          0.00011451613723001296,
          0.00011305125916315843,
          0.00011118649278148874,
          0.00010889286480834104,
          0.00010616185756956007,
          0.00010300485330745946,
          9.945137508434758e-05,
          9.554638627894356e-05,
          9.134696837485993e-05,
          8.691871463930837e-05,
          8.233215639714937e-05,
          7.765948473702435e-05,
          7.297175329621068e-05,
          6.833665928620819e-05,
          6.381691281020545e-05,
          5.946913034657278e-05,
          5.534313596203139e-05,
          5.148152859654447e-05,
          4.7919376628712185e-05,
          4.468392876638137e-05,
          4.179427655026047e-05,
          3.926095952651149e-05,
          3.708555962309125e-05,
          3.52603771506097e-05,
          3.376830964488157e-05,
          3.2583061760906444e-05,
          3.1669798227250626e-05,
          3.098631446932909e-05,
          3.0484745882760105e-05,
          3.011377405009835e-05,
          2.982122476530498e-05,
          2.9556896891040887e-05,
          2.9275420079849212e-05,
          2.8938918531445575e-05,
          2.851925997048352e-05,
          2.7999693867151054e-05,
          2.737572790227971e-05,
          2.665515194169373e-05,
          2.585718800507309e-05,
          2.5010815926755792e-05,
          2.4152390834585644e-05,
          2.3322724353573577e-05,
          2.2563842144366134e-05,
          2.191565330260409e-05,
          2.1412771327783102e-05,
          2.1081712476781603e-05,
          2.0938667313172248e-05,
          2.098799806541044e-05,
          2.122156153624834e-05,
          2.161889859997879e-05,
          2.214827072715092e-05,
          2.2768465394623273e-05,
          2.3431239432122522e-05,
          2.408422582200092e-05,
          2.4674098283156195e-05,
          2.5149771575039804e-05,
          2.546541540385798e-05,
          2.5583076500096495e-05
         ],
         "yaxis": "y"
        }
       ],
       "layout": {
        "barmode": "overlay",
        "height": 500,
        "hovermode": "closest",
        "legend": {
         "traceorder": "reversed"
        },
        "showlegend": false,
        "template": {
         "data": {
          "bar": [
           {
            "error_x": {
             "color": "#2a3f5f"
            },
            "error_y": {
             "color": "#2a3f5f"
            },
            "marker": {
             "line": {
              "color": "#E5ECF6",
              "width": 0.5
             },
             "pattern": {
              "fillmode": "overlay",
              "size": 10,
              "solidity": 0.2
             }
            },
            "type": "bar"
           }
          ],
          "barpolar": [
           {
            "marker": {
             "line": {
              "color": "#E5ECF6",
              "width": 0.5
             },
             "pattern": {
              "fillmode": "overlay",
              "size": 10,
              "solidity": 0.2
             }
            },
            "type": "barpolar"
           }
          ],
          "carpet": [
           {
            "aaxis": {
             "endlinecolor": "#2a3f5f",
             "gridcolor": "white",
             "linecolor": "white",
             "minorgridcolor": "white",
             "startlinecolor": "#2a3f5f"
            },
            "baxis": {
             "endlinecolor": "#2a3f5f",
             "gridcolor": "white",
             "linecolor": "white",
             "minorgridcolor": "white",
             "startlinecolor": "#2a3f5f"
            },
            "type": "carpet"
           }
          ],
          "choropleth": [
           {
            "colorbar": {
             "outlinewidth": 0,
             "ticks": ""
            },
            "type": "choropleth"
           }
          ],
          "contour": [
           {
            "colorbar": {
             "outlinewidth": 0,
             "ticks": ""
            },
            "colorscale": [
             [
              0,
              "#0d0887"
             ],
             [
              0.1111111111111111,
              "#46039f"
             ],
             [
              0.2222222222222222,
              "#7201a8"
             ],
             [
              0.3333333333333333,
              "#9c179e"
             ],
             [
              0.4444444444444444,
              "#bd3786"
             ],
             [
              0.5555555555555556,
              "#d8576b"
             ],
             [
              0.6666666666666666,
              "#ed7953"
             ],
             [
              0.7777777777777778,
              "#fb9f3a"
             ],
             [
              0.8888888888888888,
              "#fdca26"
             ],
             [
              1,
              "#f0f921"
             ]
            ],
            "type": "contour"
           }
          ],
          "contourcarpet": [
           {
            "colorbar": {
             "outlinewidth": 0,
             "ticks": ""
            },
            "type": "contourcarpet"
           }
          ],
          "heatmap": [
           {
            "colorbar": {
             "outlinewidth": 0,
             "ticks": ""
            },
            "colorscale": [
             [
              0,
              "#0d0887"
             ],
             [
              0.1111111111111111,
              "#46039f"
             ],
             [
              0.2222222222222222,
              "#7201a8"
             ],
             [
              0.3333333333333333,
              "#9c179e"
             ],
             [
              0.4444444444444444,
              "#bd3786"
             ],
             [
              0.5555555555555556,
              "#d8576b"
             ],
             [
              0.6666666666666666,
              "#ed7953"
             ],
             [
              0.7777777777777778,
              "#fb9f3a"
             ],
             [
              0.8888888888888888,
              "#fdca26"
             ],
             [
              1,
              "#f0f921"
             ]
            ],
            "type": "heatmap"
           }
          ],
          "heatmapgl": [
           {
            "colorbar": {
             "outlinewidth": 0,
             "ticks": ""
            },
            "colorscale": [
             [
              0,
              "#0d0887"
             ],
             [
              0.1111111111111111,
              "#46039f"
             ],
             [
              0.2222222222222222,
              "#7201a8"
             ],
             [
              0.3333333333333333,
              "#9c179e"
             ],
             [
              0.4444444444444444,
              "#bd3786"
             ],
             [
              0.5555555555555556,
              "#d8576b"
             ],
             [
              0.6666666666666666,
              "#ed7953"
             ],
             [
              0.7777777777777778,
              "#fb9f3a"
             ],
             [
              0.8888888888888888,
              "#fdca26"
             ],
             [
              1,
              "#f0f921"
             ]
            ],
            "type": "heatmapgl"
           }
          ],
          "histogram": [
           {
            "marker": {
             "pattern": {
              "fillmode": "overlay",
              "size": 10,
              "solidity": 0.2
             }
            },
            "type": "histogram"
           }
          ],
          "histogram2d": [
           {
            "colorbar": {
             "outlinewidth": 0,
             "ticks": ""
            },
            "colorscale": [
             [
              0,
              "#0d0887"
             ],
             [
              0.1111111111111111,
              "#46039f"
             ],
             [
              0.2222222222222222,
              "#7201a8"
             ],
             [
              0.3333333333333333,
              "#9c179e"
             ],
             [
              0.4444444444444444,
              "#bd3786"
             ],
             [
              0.5555555555555556,
              "#d8576b"
             ],
             [
              0.6666666666666666,
              "#ed7953"
             ],
             [
              0.7777777777777778,
              "#fb9f3a"
             ],
             [
              0.8888888888888888,
              "#fdca26"
             ],
             [
              1,
              "#f0f921"
             ]
            ],
            "type": "histogram2d"
           }
          ],
          "histogram2dcontour": [
           {
            "colorbar": {
             "outlinewidth": 0,
             "ticks": ""
            },
            "colorscale": [
             [
              0,
              "#0d0887"
             ],
             [
              0.1111111111111111,
              "#46039f"
             ],
             [
              0.2222222222222222,
              "#7201a8"
             ],
             [
              0.3333333333333333,
              "#9c179e"
             ],
             [
              0.4444444444444444,
              "#bd3786"
             ],
             [
              0.5555555555555556,
              "#d8576b"
             ],
             [
              0.6666666666666666,
              "#ed7953"
             ],
             [
              0.7777777777777778,
              "#fb9f3a"
             ],
             [
              0.8888888888888888,
              "#fdca26"
             ],
             [
              1,
              "#f0f921"
             ]
            ],
            "type": "histogram2dcontour"
           }
          ],
          "mesh3d": [
           {
            "colorbar": {
             "outlinewidth": 0,
             "ticks": ""
            },
            "type": "mesh3d"
           }
          ],
          "parcoords": [
           {
            "line": {
             "colorbar": {
              "outlinewidth": 0,
              "ticks": ""
             }
            },
            "type": "parcoords"
           }
          ],
          "pie": [
           {
            "automargin": true,
            "type": "pie"
           }
          ],
          "scatter": [
           {
            "fillpattern": {
             "fillmode": "overlay",
             "size": 10,
             "solidity": 0.2
            },
            "type": "scatter"
           }
          ],
          "scatter3d": [
           {
            "line": {
             "colorbar": {
              "outlinewidth": 0,
              "ticks": ""
             }
            },
            "marker": {
             "colorbar": {
              "outlinewidth": 0,
              "ticks": ""
             }
            },
            "type": "scatter3d"
           }
          ],
          "scattercarpet": [
           {
            "marker": {
             "colorbar": {
              "outlinewidth": 0,
              "ticks": ""
             }
            },
            "type": "scattercarpet"
           }
          ],
          "scattergeo": [
           {
            "marker": {
             "colorbar": {
              "outlinewidth": 0,
              "ticks": ""
             }
            },
            "type": "scattergeo"
           }
          ],
          "scattergl": [
           {
            "marker": {
             "colorbar": {
              "outlinewidth": 0,
              "ticks": ""
             }
            },
            "type": "scattergl"
           }
          ],
          "scattermapbox": [
           {
            "marker": {
             "colorbar": {
              "outlinewidth": 0,
              "ticks": ""
             }
            },
            "type": "scattermapbox"
           }
          ],
          "scatterpolar": [
           {
            "marker": {
             "colorbar": {
              "outlinewidth": 0,
              "ticks": ""
             }
            },
            "type": "scatterpolar"
           }
          ],
          "scatterpolargl": [
           {
            "marker": {
             "colorbar": {
              "outlinewidth": 0,
              "ticks": ""
             }
            },
            "type": "scatterpolargl"
           }
          ],
          "scatterternary": [
           {
            "marker": {
             "colorbar": {
              "outlinewidth": 0,
              "ticks": ""
             }
            },
            "type": "scatterternary"
           }
          ],
          "surface": [
           {
            "colorbar": {
             "outlinewidth": 0,
             "ticks": ""
            },
            "colorscale": [
             [
              0,
              "#0d0887"
             ],
             [
              0.1111111111111111,
              "#46039f"
             ],
             [
              0.2222222222222222,
              "#7201a8"
             ],
             [
              0.3333333333333333,
              "#9c179e"
             ],
             [
              0.4444444444444444,
              "#bd3786"
             ],
             [
              0.5555555555555556,
              "#d8576b"
             ],
             [
              0.6666666666666666,
              "#ed7953"
             ],
             [
              0.7777777777777778,
              "#fb9f3a"
             ],
             [
              0.8888888888888888,
              "#fdca26"
             ],
             [
              1,
              "#f0f921"
             ]
            ],
            "type": "surface"
           }
          ],
          "table": [
           {
            "cells": {
             "fill": {
              "color": "#EBF0F8"
             },
             "line": {
              "color": "white"
             }
            },
            "header": {
             "fill": {
              "color": "#C8D4E3"
             },
             "line": {
              "color": "white"
             }
            },
            "type": "table"
           }
          ]
         },
         "layout": {
          "annotationdefaults": {
           "arrowcolor": "#2a3f5f",
           "arrowhead": 0,
           "arrowwidth": 1
          },
          "autotypenumbers": "strict",
          "coloraxis": {
           "colorbar": {
            "outlinewidth": 0,
            "ticks": ""
           }
          },
          "colorscale": {
           "diverging": [
            [
             0,
             "#8e0152"
            ],
            [
             0.1,
             "#c51b7d"
            ],
            [
             0.2,
             "#de77ae"
            ],
            [
             0.3,
             "#f1b6da"
            ],
            [
             0.4,
             "#fde0ef"
            ],
            [
             0.5,
             "#f7f7f7"
            ],
            [
             0.6,
             "#e6f5d0"
            ],
            [
             0.7,
             "#b8e186"
            ],
            [
             0.8,
             "#7fbc41"
            ],
            [
             0.9,
             "#4d9221"
            ],
            [
             1,
             "#276419"
            ]
           ],
           "sequential": [
            [
             0,
             "#0d0887"
            ],
            [
             0.1111111111111111,
             "#46039f"
            ],
            [
             0.2222222222222222,
             "#7201a8"
            ],
            [
             0.3333333333333333,
             "#9c179e"
            ],
            [
             0.4444444444444444,
             "#bd3786"
            ],
            [
             0.5555555555555556,
             "#d8576b"
            ],
            [
             0.6666666666666666,
             "#ed7953"
            ],
            [
             0.7777777777777778,
             "#fb9f3a"
            ],
            [
             0.8888888888888888,
             "#fdca26"
            ],
            [
             1,
             "#f0f921"
            ]
           ],
           "sequentialminus": [
            [
             0,
             "#0d0887"
            ],
            [
             0.1111111111111111,
             "#46039f"
            ],
            [
             0.2222222222222222,
             "#7201a8"
            ],
            [
             0.3333333333333333,
             "#9c179e"
            ],
            [
             0.4444444444444444,
             "#bd3786"
            ],
            [
             0.5555555555555556,
             "#d8576b"
            ],
            [
             0.6666666666666666,
             "#ed7953"
            ],
            [
             0.7777777777777778,
             "#fb9f3a"
            ],
            [
             0.8888888888888888,
             "#fdca26"
            ],
            [
             1,
             "#f0f921"
            ]
           ]
          },
          "colorway": [
           "#636efa",
           "#EF553B",
           "#00cc96",
           "#ab63fa",
           "#FFA15A",
           "#19d3f3",
           "#FF6692",
           "#B6E880",
           "#FF97FF",
           "#FECB52"
          ],
          "font": {
           "color": "#2a3f5f"
          },
          "geo": {
           "bgcolor": "white",
           "lakecolor": "white",
           "landcolor": "#E5ECF6",
           "showlakes": true,
           "showland": true,
           "subunitcolor": "white"
          },
          "hoverlabel": {
           "align": "left"
          },
          "hovermode": "closest",
          "mapbox": {
           "style": "light"
          },
          "paper_bgcolor": "white",
          "plot_bgcolor": "#E5ECF6",
          "polar": {
           "angularaxis": {
            "gridcolor": "white",
            "linecolor": "white",
            "ticks": ""
           },
           "bgcolor": "#E5ECF6",
           "radialaxis": {
            "gridcolor": "white",
            "linecolor": "white",
            "ticks": ""
           }
          },
          "scene": {
           "xaxis": {
            "backgroundcolor": "#E5ECF6",
            "gridcolor": "white",
            "gridwidth": 2,
            "linecolor": "white",
            "showbackground": true,
            "ticks": "",
            "zerolinecolor": "white"
           },
           "yaxis": {
            "backgroundcolor": "#E5ECF6",
            "gridcolor": "white",
            "gridwidth": 2,
            "linecolor": "white",
            "showbackground": true,
            "ticks": "",
            "zerolinecolor": "white"
           },
           "zaxis": {
            "backgroundcolor": "#E5ECF6",
            "gridcolor": "white",
            "gridwidth": 2,
            "linecolor": "white",
            "showbackground": true,
            "ticks": "",
            "zerolinecolor": "white"
           }
          },
          "shapedefaults": {
           "line": {
            "color": "#2a3f5f"
           }
          },
          "ternary": {
           "aaxis": {
            "gridcolor": "white",
            "linecolor": "white",
            "ticks": ""
           },
           "baxis": {
            "gridcolor": "white",
            "linecolor": "white",
            "ticks": ""
           },
           "bgcolor": "#E5ECF6",
           "caxis": {
            "gridcolor": "white",
            "linecolor": "white",
            "ticks": ""
           }
          },
          "title": {
           "x": 0.05
          },
          "xaxis": {
           "automargin": true,
           "gridcolor": "white",
           "linecolor": "white",
           "ticks": "",
           "title": {
            "standoff": 15
           },
           "zerolinecolor": "white",
           "zerolinewidth": 2
          },
          "yaxis": {
           "automargin": true,
           "gridcolor": "white",
           "linecolor": "white",
           "ticks": "",
           "title": {
            "standoff": 15
           },
           "zerolinecolor": "white",
           "zerolinewidth": 2
          }
         }
        },
        "title": {
         "text": "PDF",
         "x": 0.5,
         "xanchor": "center",
         "y": 0.9,
         "yanchor": "top"
        },
        "width": 500,
        "xaxis": {
         "anchor": "y2",
         "domain": [
          0,
          1
         ],
         "title": {
          "text": "Length of a headline"
         },
         "zeroline": false
        },
        "yaxis": {
         "anchor": "free",
         "domain": [
          0,
          1
         ],
         "position": 0,
         "title": {
          "text": "probability"
         }
        }
       }
      },
      "text/html": [
       "<div>                            <div id=\"49083886-f580-49d9-9b95-8b7e0684e064\" class=\"plotly-graph-div\" style=\"height:500px; width:500px;\"></div>            <script type=\"text/javascript\">                require([\"plotly\"], function(Plotly) {                    window.PLOTLYENV=window.PLOTLYENV || {};                                    if (document.getElementById(\"49083886-f580-49d9-9b95-8b7e0684e064\")) {                    Plotly.newPlot(                        \"49083886-f580-49d9-9b95-8b7e0684e064\",                        [{\"legendgroup\":\"ht\",\"marker\":{\"color\":\"rgb(31, 119, 180)\"},\"mode\":\"lines\",\"name\":\"ht\",\"showlegend\":true,\"x\":[25.0,25.21,25.42,25.63,25.84,26.05,26.26,26.47,26.68,26.89,27.1,27.31,27.52,27.73,27.94,28.15,28.36,28.57,28.78,28.990000000000002,29.2,29.41,29.62,29.83,30.04,30.25,30.46,30.67,30.88,31.09,31.3,31.509999999999998,31.72,31.93,32.14,32.35,32.56,32.769999999999996,32.980000000000004,33.19,33.4,33.61,33.82,34.03,34.24,34.45,34.66,34.87,35.08,35.29,35.5,35.71,35.92,36.13,36.34,36.55,36.76,36.97,37.18,37.39,37.6,37.81,38.019999999999996,38.230000000000004,38.44,38.65,38.86,39.07,39.28,39.49,39.7,39.91,40.12,40.33,40.54,40.75,40.96,41.17,41.379999999999995,41.59,41.8,42.010000000000005,42.22,42.43,42.64,42.85,43.06,43.269999999999996,43.480000000000004,43.69,43.9,44.11,44.32,44.53,44.739999999999995,44.95,45.16,45.370000000000005,45.58,45.79,46.0,46.21,46.42,46.629999999999995,46.84,47.05,47.260000000000005,47.47,47.68,47.89,48.1,48.31,48.519999999999996,48.730000000000004,48.94,49.15,49.36,49.57,49.78,49.989999999999995,50.2,50.41,50.620000000000005,50.83,51.04,51.25,51.46,51.67,51.879999999999995,52.09,52.3,52.510000000000005,52.72,52.93,53.14,53.35,53.56,53.769999999999996,53.980000000000004,54.19,54.4,54.61,54.82,55.03,55.239999999999995,55.45,55.66,55.870000000000005,56.08,56.29,56.5,56.71,56.92,57.13,57.34,57.55,57.76,57.97,58.18,58.39,58.6,58.81,59.02,59.23,59.44,59.65,59.86,60.07,60.28,60.49,60.7,60.91,61.12,61.33,61.54,61.75,61.96,62.17,62.38,62.59,62.8,63.01,63.22,63.43,63.64,63.85,64.06,64.27000000000001,64.47999999999999,64.69,64.9,65.11,65.32,65.53,65.74000000000001,65.95,66.16,66.37,66.58,66.78999999999999,67.0,67.21000000000001,67.42,67.63,67.84,68.05,68.25999999999999,68.47,68.68,68.89,69.1,69.31,69.52000000000001,69.72999999999999,69.94,70.15,70.36,70.57,70.78,70.99000000000001,71.2,71.41,71.62,71.83,72.03999999999999,72.25,72.46000000000001,72.67,72.88,73.09,73.3,73.50999999999999,73.72,73.93,74.14,74.35,74.56,74.77000000000001,74.97999999999999,75.19,75.4,75.61,75.82,76.03,76.24000000000001,76.45,76.66,76.87,77.08,77.28999999999999,77.5,77.71000000000001,77.92,78.13,78.34,78.55,78.75999999999999,78.97,79.18,79.39,79.6,79.81,80.02000000000001,80.22999999999999,80.44,80.65,80.86,81.07,81.28,81.49000000000001,81.7,81.91,82.12,82.33,82.53999999999999,82.75,82.96000000000001,83.17,83.38,83.59,83.8,84.00999999999999,84.22,84.43,84.64,84.85,85.06,85.27000000000001,85.47999999999999,85.69,85.9,86.11,86.32,86.53,86.74000000000001,86.95,87.16,87.37,87.58,87.78999999999999,88.0,88.21000000000001,88.42,88.63,88.84,89.05,89.26,89.47,89.68,89.89,90.1,90.31,90.52,90.73,90.94,91.15,91.36,91.57,91.78,91.99,92.2,92.41,92.62,92.83,93.04,93.25,93.46,93.67,93.88,94.09,94.3,94.51,94.72,94.93,95.14,95.35,95.56,95.77,95.98,96.19,96.4,96.61,96.82,97.03,97.24,97.45,97.66,97.87,98.08,98.29,98.5,98.71,98.92,99.13,99.34,99.55,99.76,99.97,100.18,100.39,100.6,100.81,101.02,101.23,101.44,101.65,101.86,102.07,102.28,102.49,102.7,102.91,103.12,103.33,103.54,103.75,103.96,104.17,104.38,104.59,104.8,105.01,105.22,105.43,105.64,105.85,106.06,106.27,106.48,106.69,106.9,107.11,107.32,107.53,107.74,107.95,108.16,108.37,108.58,108.79,109.0,109.21,109.42,109.63,109.84,110.05,110.26,110.47,110.68,110.89,111.1,111.31,111.52,111.73,111.94,112.15,112.36,112.57,112.78,112.99,113.2,113.41,113.62,113.83,114.04,114.25,114.46,114.67,114.88,115.09,115.3,115.51,115.72,115.93,116.14,116.35,116.56,116.77,116.98,117.19,117.4,117.61,117.82,118.03,118.24,118.45,118.66,118.87,119.08,119.29,119.5,119.71,119.92,120.13,120.34,120.55,120.76,120.97,121.18,121.39,121.6,121.81,122.02,122.23,122.44,122.65,122.86,123.07,123.28,123.49,123.7,123.91,124.12,124.33,124.54,124.75,124.96,125.17,125.38,125.59,125.8,126.01,126.22,126.43,126.64,126.85,127.06,127.27,127.48,127.69,127.9,128.11,128.32,128.53,128.74,128.95,129.16,129.37,129.57999999999998,129.79000000000002],\"xaxis\":\"x\",\"y\":[9.73222809794197e-05,0.00010289294173043314,0.0001079911100881084,0.00011260703214098645,0.00011676521672626998,0.00012052443404277762,0.00012397538634010722,0.00012723618919142435,0.00013044601388804487,0.000133757425781797,0.00013732808770701815,0.0001413125646953496,0.00014585495625850495,0.00015108299475587742,0.00015710409136447898,0.00016400360202237251,0.00017184534800748782,0.00018067418669417113,0.00019052021480249986,0.00020140402313252728,0.00021334232609750148,0.00022635327069551534,0.00024046078791084351,0.0002556974759121888,0.000272105682286048,0.00028973666028530215,0.00030864788794536204,0.00032889883613293296,0.00035054563300781783,0.0003736351844682658,0.00039819936597322906,0.0004242499002642108,0.00045177448303599364,0.0004807346234812,0.0005110655397327096,0.0005426783015217944,0.0005754642535686814,0.0006093015911078737,0.0006440637994711964,0.000679629517666029,0.0007158932462978076,0.0007527761991068213,0.0007902365029600776,0.0008282778936821711,0.0008669560464425814,0.0009063817313192143,0.0009467201066828637,0.0009881856600432756,0.0010310325757969109,0.0010755406410782363,0.0011219971745356195,0.001170675849703732,0.0012218136497025073,0.0012755874951787044,0.001332092295751824,0.0013913222553550725,0.001453157192170276,0.0015173554058315743,0.0015835542447891814,0.0016512790172230696,0.0017199602858757248,0.0017889589381199912,0.001857597782134737,0.0019251978450613525,0.0019911170931635625,0.002054789002734508,0.002115758316366668,0.002173711438427882,0.002228499253804729,0.0022801506736309617,0.0023288758812077134,0.002375059015852013,0.0024192408265476975,0.0024620925808382125,0.0025043831592619728,0.002546941742738388,0.0025906187661888127,0.0026362478435214545,0.002684611167769089,0.002736410480404388,0.0027922451317172418,0.0028525980816031683,0.0029178299876806454,0.002988180865828657,0.0030637782491241762,0.0031446503614336314,0.003230742588116631,0.0033219354731721623,0.0034180625840683166,0.0035189268306353863,0.003624314160809797,0.003734003938424582,0.0038477756944218402,0.003965412298613427,0.0040866999010854155,0.00421142522859433,0.004339370989785063,0.004470310248614499,0.004604000676070469,0.004740179594037206,0.004878560687100155,0.005018833179416427,0.00516066415206254,0.005303704507085359,0.0054475988639806384,0.005591999402170727,0.005736583345123316,0.005881073432008805,0.006025260363911723,0.006169025874102857,0.0063123647916378065,0.006455404282033051,0.006598418392226909,0.006741836125386474,0.006886241537279422,0.0070323647762135545,0.007181063561117995,0.007333295267788704,0.007490080517859909,0.007652459875827129,0.00782144589126858,0.007997973216307538,0.008182849834168442,0.008376712522458637,0.008579989533533634,0.008792873113195203,0.00901530392510279,0.00924696874253117,0.00948731196104773,0.009735560628682983,0.0099907618372791,0.01025183052011887,0.01051760500262711,0.010786907096456747,0.011058603149528855,0.011331662297469257,0.011605208230136608,0.011878561105487838,0.012151266812629498,0.012423111589061992,0.012694120994731417,0.012964543375685896,0.013234819130026944,0.013505538220133534,0.013777389352449322,0.014051104968682202,0.014327406575627992,0.014606954929138025,0.014890309162504996,0.015177898135180647,0.015470006141946057,0.015766773770997364,0.016068213265524774,0.016374236374476308,0.016684691518567146,0.01699940627148417,0.017318230752446165,0.017641077586451403,0.01796795460104353,0.01829898732834616,0.018634429557295953,0.018974661489411057,0.01932017633264175,0.01967155726804684,0.020029447514966697,0.020394516616891553,0.020767426042014675,0.02114879676819384,0.021539180785107567,0.021939037522797994,0.022348715255113002,0.022768436679749617,0.023198287273162744,0.02363820474701491,0.02408796802763644,0.024547184617155087,0.02501527589671938,0.025491460780110026,0.025974738980354628,0.026463875873961738,0.026957391420793772,0.0274535557454949,0.027950393781386366,0.02844570084350038,0.028937070202339356,0.02942193277376901,0.02989760803798276,0.03036136436327443,0.03081048613260194,0.031242344517976698,0.031654468452548816,0.0320446123143549,0.032410817035092826,0.032751461741798826,0.03306530358111695,0.03335150401789773,0.03360964060063171,0.03383970391074751,0.03404208013312008,0.03421752037502869,0.0343670984950243,0.03449215975301996,0.03459426302773439,0.0346751196356613,0.034736531898936836,0.03478033452846434,0.03480834160788629,0.03482230149511879,0.0348238613325281,0.034814542122300236,0.03479572454255258,0.034768644920015176,0.034734400104582966,0.034693959467105656,0.03464818190597831,0.0345978356200548,0.03454361848054058,0.03448617708543417,0.03442612296000707,0.03436404481670899,0.03430051624547852,0.034236098613604396,0.03417133927113401,0.03410676536197941,0.03404287363556757,0.033980116665753984,0.03391888585739827,0.03385949161050403,0.033802141068671035,0.033746914039853304,0.033693737955633615,0.033642363111522904,0.033592339854428714,0.033542999776624706,0.03349344324555117,0.03344253565279699,0.03338891452964063,0.033331009110940585,0.033267073042108276,0.033195229776246615,0.03311352891120286,0.03302001041919107,0.03291277259418361,0.03279003875076742,0.032650217390273274,0.0324919507932013,0.03231414782228887,0.032115998075175387,0.03189696628599708,0.03165676785942763,0.03139532840969255,0.031112731940791314,0.030809163630147417,0.03048485389723786,0.030140030447837234,0.029774884258076877,0.029389554058132213,0.02898413192783338,0.028558690323911833,0.028113328460754112,0.027648233719777662,0.02716375191099495,0.026660458960735697,0.026139226097117135,0.02560127091776525,0.025048187834743774,0.024481953196029062,0.02390490270252255,0.023319681337981225,0.022729168637987938,0.022136384471377873,0.02154438234872724,0.020956138417276997,0.02037444463581944,0.019801814121210803,0.019240405386406617,0.018691970297470276,0.018157828278102948,0.017638866838481527,0.01713556616335561,0.016648043504010508,0.016176111672693824,0.01571934516010984,0.01527714732942822,0.014848812744908544,0.014433579857273483,0.014030670823764281,0.013639316988310671,0.01325877028066909,0.012888302326087923,0.012527194242450546,0.012174720847277068,0.011830133269427048,0.011492643783330241,0.011161416127204027,0.010835563732359438,0.01051415729383021,0.010196242066320698,0.009880864271726878,0.009567105129928748,0.009254120322126918,0.00894118219153511,0.008627721687831802,0.008313366966764301,0.007997975657063042,0.007681658094299946,0.007364789285351383,0.007048007993846776,0.006732202104634057,0.006418480299636405,0.006108131009088601,0.005802570526528619,0.005503283017466804,0.005211755831083538,0.004929413968672572,0.00465755771592171,0.004397307279183384,0.004149557782280015,0.003914947218549112,0.003693838982857189,0.0034863195237826066,0.0032922105626565293,0.003111094327683966,0.0029423494374657628,0.002785194503162776,0.0026387362346690538,0.0025020188321503325,0.002374071688218228,0.0022539528625630393,0.002140786351370801,0.002033791787104578,0.0019323058064953452,0.001835794867114955,0.0017438597460322433,0.001656232307547066,0.0015727653870142345,0.0014934168213911522,0.0014182287857849934,0.0013473036883659302,0.0012807779461312012,0.0012187950143472187,0.001161479066894896,0.0011089107100685706,0.0010611060426132643,0.0010180002357692462,0.0009794365909742615,0.0009451617412691762,0.0009148273077987437,0.0008879979276191915,0.000864165163365393,0.0008427664228704066,0.0008232076904275819,0.0008048886288531586,0.0007872284723009802,0.000769691103073494,0.0007518077899657589,0.0007331962498517713,0.0007135749596599382,0.0006927719691850059,0.0006707278209625428,0.0006474925467645255,0.0006232170585282163,0.000598139565476732,0.000572567913472164,0.0005468589457930345,0.0005213961187532778,0.000496566666534419,0.0004727395962692982,0.00045024570912913676,0.00042936069170518184,0.00041029211359843647,0.0003931709144061239,0.0003780476816242836,0.0003648937277820786,0.0003536066886674443,0.00034402010263421515,0.0003359162097564682,0.0003290410421150178,0.0003231207720176881,0.0003178782483719536,0.00031304868317803147,0.00030839354637035067,0.0003037118803903544,0.0002988484451190277,0.0002936983358102923,0.00028820796629658606,0.0002823725607288076,0.0002762305328776223,0.00026985533652134106,0.0002633455291811944,0.0002568138925817515,0.0002503764886158468,0.0002441424959513785,0.00023820557190956424,0.00023263732484959845,0.00022748327751375625,0.0002227614697184021,0.0002184636105756431,0.00021455846827693524,0.00021099700025927588,0.00020771859561858326,0.00020465773667459257,0.00020175039240560844,0.00019893953028984158,0.00019617926491958068,0.0001934373355903794,0.0001906958008398906,0.00018795003390522104,0.00018520627848892153,0.00018247816155960228,0.0001797826467839828,0.00017713594246000712,0.00017454985188165343,0.00017202897827684984,0.0001695690819421052,0.0001671567481766834,0.0001647703766003322,0.00016238236047374824,0.00015996220189833966,0.00015748021553024832,0.0001549114165467422,0.00015223917132588084,0.00014945821152738008,0.00014657667085985203,0.00014361689309518882,0.00014061487207965597,0.00013761831024487162,0.00013468341102671686,0.0001318706417661878,0.0001292398064237721,0.00012684484215216195,0.00012472879272939068,0.00012291941014931312,0.00012142579194297253,0.00012023637872842509,0.00011931852081538279,0.00011861968486409233,0.00011807022483437207,0.00011758750043086175,0.00011708100546200686,0.00011645808062965419,0.0001156297394832164,0.00011451613723001296,0.00011305125916315843,0.00011118649278148874,0.00010889286480834104,0.00010616185756956007,0.00010300485330745946,9.945137508434758e-05,9.554638627894356e-05,9.134696837485993e-05,8.691871463930837e-05,8.233215639714937e-05,7.765948473702435e-05,7.297175329621068e-05,6.833665928620819e-05,6.381691281020545e-05,5.946913034657278e-05,5.534313596203139e-05,5.148152859654447e-05,4.7919376628712185e-05,4.468392876638137e-05,4.179427655026047e-05,3.926095952651149e-05,3.708555962309125e-05,3.52603771506097e-05,3.376830964488157e-05,3.2583061760906444e-05,3.1669798227250626e-05,3.098631446932909e-05,3.0484745882760105e-05,3.011377405009835e-05,2.982122476530498e-05,2.9556896891040887e-05,2.9275420079849212e-05,2.8938918531445575e-05,2.851925997048352e-05,2.7999693867151054e-05,2.737572790227971e-05,2.665515194169373e-05,2.585718800507309e-05,2.5010815926755792e-05,2.4152390834585644e-05,2.3322724353573577e-05,2.2563842144366134e-05,2.191565330260409e-05,2.1412771327783102e-05,2.1081712476781603e-05,2.0938667313172248e-05,2.098799806541044e-05,2.122156153624834e-05,2.161889859997879e-05,2.214827072715092e-05,2.2768465394623273e-05,2.3431239432122522e-05,2.408422582200092e-05,2.4674098283156195e-05,2.5149771575039804e-05,2.546541540385798e-05,2.5583076500096495e-05],\"yaxis\":\"y\",\"type\":\"scatter\"}],                        {\"barmode\":\"overlay\",\"hovermode\":\"closest\",\"legend\":{\"traceorder\":\"reversed\"},\"xaxis\":{\"anchor\":\"y2\",\"domain\":[0.0,1.0],\"zeroline\":false,\"title\":{\"text\":\"Length of a headline\"}},\"yaxis\":{\"anchor\":\"free\",\"domain\":[0.0,1],\"position\":0.0,\"title\":{\"text\":\"probability\"}},\"template\":{\"data\":{\"histogram2dcontour\":[{\"type\":\"histogram2dcontour\",\"colorbar\":{\"outlinewidth\":0,\"ticks\":\"\"},\"colorscale\":[[0.0,\"#0d0887\"],[0.1111111111111111,\"#46039f\"],[0.2222222222222222,\"#7201a8\"],[0.3333333333333333,\"#9c179e\"],[0.4444444444444444,\"#bd3786\"],[0.5555555555555556,\"#d8576b\"],[0.6666666666666666,\"#ed7953\"],[0.7777777777777778,\"#fb9f3a\"],[0.8888888888888888,\"#fdca26\"],[1.0,\"#f0f921\"]]}],\"choropleth\":[{\"type\":\"choropleth\",\"colorbar\":{\"outlinewidth\":0,\"ticks\":\"\"}}],\"histogram2d\":[{\"type\":\"histogram2d\",\"colorbar\":{\"outlinewidth\":0,\"ticks\":\"\"},\"colorscale\":[[0.0,\"#0d0887\"],[0.1111111111111111,\"#46039f\"],[0.2222222222222222,\"#7201a8\"],[0.3333333333333333,\"#9c179e\"],[0.4444444444444444,\"#bd3786\"],[0.5555555555555556,\"#d8576b\"],[0.6666666666666666,\"#ed7953\"],[0.7777777777777778,\"#fb9f3a\"],[0.8888888888888888,\"#fdca26\"],[1.0,\"#f0f921\"]]}],\"heatmap\":[{\"type\":\"heatmap\",\"colorbar\":{\"outlinewidth\":0,\"ticks\":\"\"},\"colorscale\":[[0.0,\"#0d0887\"],[0.1111111111111111,\"#46039f\"],[0.2222222222222222,\"#7201a8\"],[0.3333333333333333,\"#9c179e\"],[0.4444444444444444,\"#bd3786\"],[0.5555555555555556,\"#d8576b\"],[0.6666666666666666,\"#ed7953\"],[0.7777777777777778,\"#fb9f3a\"],[0.8888888888888888,\"#fdca26\"],[1.0,\"#f0f921\"]]}],\"heatmapgl\":[{\"type\":\"heatmapgl\",\"colorbar\":{\"outlinewidth\":0,\"ticks\":\"\"},\"colorscale\":[[0.0,\"#0d0887\"],[0.1111111111111111,\"#46039f\"],[0.2222222222222222,\"#7201a8\"],[0.3333333333333333,\"#9c179e\"],[0.4444444444444444,\"#bd3786\"],[0.5555555555555556,\"#d8576b\"],[0.6666666666666666,\"#ed7953\"],[0.7777777777777778,\"#fb9f3a\"],[0.8888888888888888,\"#fdca26\"],[1.0,\"#f0f921\"]]}],\"contourcarpet\":[{\"type\":\"contourcarpet\",\"colorbar\":{\"outlinewidth\":0,\"ticks\":\"\"}}],\"contour\":[{\"type\":\"contour\",\"colorbar\":{\"outlinewidth\":0,\"ticks\":\"\"},\"colorscale\":[[0.0,\"#0d0887\"],[0.1111111111111111,\"#46039f\"],[0.2222222222222222,\"#7201a8\"],[0.3333333333333333,\"#9c179e\"],[0.4444444444444444,\"#bd3786\"],[0.5555555555555556,\"#d8576b\"],[0.6666666666666666,\"#ed7953\"],[0.7777777777777778,\"#fb9f3a\"],[0.8888888888888888,\"#fdca26\"],[1.0,\"#f0f921\"]]}],\"surface\":[{\"type\":\"surface\",\"colorbar\":{\"outlinewidth\":0,\"ticks\":\"\"},\"colorscale\":[[0.0,\"#0d0887\"],[0.1111111111111111,\"#46039f\"],[0.2222222222222222,\"#7201a8\"],[0.3333333333333333,\"#9c179e\"],[0.4444444444444444,\"#bd3786\"],[0.5555555555555556,\"#d8576b\"],[0.6666666666666666,\"#ed7953\"],[0.7777777777777778,\"#fb9f3a\"],[0.8888888888888888,\"#fdca26\"],[1.0,\"#f0f921\"]]}],\"mesh3d\":[{\"type\":\"mesh3d\",\"colorbar\":{\"outlinewidth\":0,\"ticks\":\"\"}}],\"scatter\":[{\"fillpattern\":{\"fillmode\":\"overlay\",\"size\":10,\"solidity\":0.2},\"type\":\"scatter\"}],\"parcoords\":[{\"type\":\"parcoords\",\"line\":{\"colorbar\":{\"outlinewidth\":0,\"ticks\":\"\"}}}],\"scatterpolargl\":[{\"type\":\"scatterpolargl\",\"marker\":{\"colorbar\":{\"outlinewidth\":0,\"ticks\":\"\"}}}],\"bar\":[{\"error_x\":{\"color\":\"#2a3f5f\"},\"error_y\":{\"color\":\"#2a3f5f\"},\"marker\":{\"line\":{\"color\":\"#E5ECF6\",\"width\":0.5},\"pattern\":{\"fillmode\":\"overlay\",\"size\":10,\"solidity\":0.2}},\"type\":\"bar\"}],\"scattergeo\":[{\"type\":\"scattergeo\",\"marker\":{\"colorbar\":{\"outlinewidth\":0,\"ticks\":\"\"}}}],\"scatterpolar\":[{\"type\":\"scatterpolar\",\"marker\":{\"colorbar\":{\"outlinewidth\":0,\"ticks\":\"\"}}}],\"histogram\":[{\"marker\":{\"pattern\":{\"fillmode\":\"overlay\",\"size\":10,\"solidity\":0.2}},\"type\":\"histogram\"}],\"scattergl\":[{\"type\":\"scattergl\",\"marker\":{\"colorbar\":{\"outlinewidth\":0,\"ticks\":\"\"}}}],\"scatter3d\":[{\"type\":\"scatter3d\",\"line\":{\"colorbar\":{\"outlinewidth\":0,\"ticks\":\"\"}},\"marker\":{\"colorbar\":{\"outlinewidth\":0,\"ticks\":\"\"}}}],\"scattermapbox\":[{\"type\":\"scattermapbox\",\"marker\":{\"colorbar\":{\"outlinewidth\":0,\"ticks\":\"\"}}}],\"scatterternary\":[{\"type\":\"scatterternary\",\"marker\":{\"colorbar\":{\"outlinewidth\":0,\"ticks\":\"\"}}}],\"scattercarpet\":[{\"type\":\"scattercarpet\",\"marker\":{\"colorbar\":{\"outlinewidth\":0,\"ticks\":\"\"}}}],\"carpet\":[{\"aaxis\":{\"endlinecolor\":\"#2a3f5f\",\"gridcolor\":\"white\",\"linecolor\":\"white\",\"minorgridcolor\":\"white\",\"startlinecolor\":\"#2a3f5f\"},\"baxis\":{\"endlinecolor\":\"#2a3f5f\",\"gridcolor\":\"white\",\"linecolor\":\"white\",\"minorgridcolor\":\"white\",\"startlinecolor\":\"#2a3f5f\"},\"type\":\"carpet\"}],\"table\":[{\"cells\":{\"fill\":{\"color\":\"#EBF0F8\"},\"line\":{\"color\":\"white\"}},\"header\":{\"fill\":{\"color\":\"#C8D4E3\"},\"line\":{\"color\":\"white\"}},\"type\":\"table\"}],\"barpolar\":[{\"marker\":{\"line\":{\"color\":\"#E5ECF6\",\"width\":0.5},\"pattern\":{\"fillmode\":\"overlay\",\"size\":10,\"solidity\":0.2}},\"type\":\"barpolar\"}],\"pie\":[{\"automargin\":true,\"type\":\"pie\"}]},\"layout\":{\"autotypenumbers\":\"strict\",\"colorway\":[\"#636efa\",\"#EF553B\",\"#00cc96\",\"#ab63fa\",\"#FFA15A\",\"#19d3f3\",\"#FF6692\",\"#B6E880\",\"#FF97FF\",\"#FECB52\"],\"font\":{\"color\":\"#2a3f5f\"},\"hovermode\":\"closest\",\"hoverlabel\":{\"align\":\"left\"},\"paper_bgcolor\":\"white\",\"plot_bgcolor\":\"#E5ECF6\",\"polar\":{\"bgcolor\":\"#E5ECF6\",\"angularaxis\":{\"gridcolor\":\"white\",\"linecolor\":\"white\",\"ticks\":\"\"},\"radialaxis\":{\"gridcolor\":\"white\",\"linecolor\":\"white\",\"ticks\":\"\"}},\"ternary\":{\"bgcolor\":\"#E5ECF6\",\"aaxis\":{\"gridcolor\":\"white\",\"linecolor\":\"white\",\"ticks\":\"\"},\"baxis\":{\"gridcolor\":\"white\",\"linecolor\":\"white\",\"ticks\":\"\"},\"caxis\":{\"gridcolor\":\"white\",\"linecolor\":\"white\",\"ticks\":\"\"}},\"coloraxis\":{\"colorbar\":{\"outlinewidth\":0,\"ticks\":\"\"}},\"colorscale\":{\"sequential\":[[0.0,\"#0d0887\"],[0.1111111111111111,\"#46039f\"],[0.2222222222222222,\"#7201a8\"],[0.3333333333333333,\"#9c179e\"],[0.4444444444444444,\"#bd3786\"],[0.5555555555555556,\"#d8576b\"],[0.6666666666666666,\"#ed7953\"],[0.7777777777777778,\"#fb9f3a\"],[0.8888888888888888,\"#fdca26\"],[1.0,\"#f0f921\"]],\"sequentialminus\":[[0.0,\"#0d0887\"],[0.1111111111111111,\"#46039f\"],[0.2222222222222222,\"#7201a8\"],[0.3333333333333333,\"#9c179e\"],[0.4444444444444444,\"#bd3786\"],[0.5555555555555556,\"#d8576b\"],[0.6666666666666666,\"#ed7953\"],[0.7777777777777778,\"#fb9f3a\"],[0.8888888888888888,\"#fdca26\"],[1.0,\"#f0f921\"]],\"diverging\":[[0,\"#8e0152\"],[0.1,\"#c51b7d\"],[0.2,\"#de77ae\"],[0.3,\"#f1b6da\"],[0.4,\"#fde0ef\"],[0.5,\"#f7f7f7\"],[0.6,\"#e6f5d0\"],[0.7,\"#b8e186\"],[0.8,\"#7fbc41\"],[0.9,\"#4d9221\"],[1,\"#276419\"]]},\"xaxis\":{\"gridcolor\":\"white\",\"linecolor\":\"white\",\"ticks\":\"\",\"title\":{\"standoff\":15},\"zerolinecolor\":\"white\",\"automargin\":true,\"zerolinewidth\":2},\"yaxis\":{\"gridcolor\":\"white\",\"linecolor\":\"white\",\"ticks\":\"\",\"title\":{\"standoff\":15},\"zerolinecolor\":\"white\",\"automargin\":true,\"zerolinewidth\":2},\"scene\":{\"xaxis\":{\"backgroundcolor\":\"#E5ECF6\",\"gridcolor\":\"white\",\"linecolor\":\"white\",\"showbackground\":true,\"ticks\":\"\",\"zerolinecolor\":\"white\",\"gridwidth\":2},\"yaxis\":{\"backgroundcolor\":\"#E5ECF6\",\"gridcolor\":\"white\",\"linecolor\":\"white\",\"showbackground\":true,\"ticks\":\"\",\"zerolinecolor\":\"white\",\"gridwidth\":2},\"zaxis\":{\"backgroundcolor\":\"#E5ECF6\",\"gridcolor\":\"white\",\"linecolor\":\"white\",\"showbackground\":true,\"ticks\":\"\",\"zerolinecolor\":\"white\",\"gridwidth\":2}},\"shapedefaults\":{\"line\":{\"color\":\"#2a3f5f\"}},\"annotationdefaults\":{\"arrowcolor\":\"#2a3f5f\",\"arrowhead\":0,\"arrowwidth\":1},\"geo\":{\"bgcolor\":\"white\",\"landcolor\":\"#E5ECF6\",\"subunitcolor\":\"white\",\"showland\":true,\"showlakes\":true,\"lakecolor\":\"white\"},\"title\":{\"x\":0.05},\"mapbox\":{\"style\":\"light\"}}},\"title\":{\"text\":\"PDF\",\"y\":0.9,\"x\":0.5,\"xanchor\":\"center\",\"yanchor\":\"top\"},\"showlegend\":false,\"width\":500,\"height\":500},                        {\"responsive\": true}                    ).then(function(){\n",
       "                            \n",
       "var gd = document.getElementById('49083886-f580-49d9-9b95-8b7e0684e064');\n",
       "var x = new MutationObserver(function (mutations, observer) {{\n",
       "        var display = window.getComputedStyle(gd).display;\n",
       "        if (!display || display === 'none') {{\n",
       "            console.log([gd, 'removed!']);\n",
       "            Plotly.purge(gd);\n",
       "            observer.disconnect();\n",
       "        }}\n",
       "}});\n",
       "\n",
       "// Listen for the removal of the full notebook cells\n",
       "var notebookContainer = gd.closest('#notebook-container');\n",
       "if (notebookContainer) {{\n",
       "    x.observe(notebookContainer, {childList: true});\n",
       "}}\n",
       "\n",
       "// Listen for the clearing of the current output cell\n",
       "var outputEl = gd.closest('.output');\n",
       "if (outputEl) {{\n",
       "    x.observe(outputEl, {childList: true});\n",
       "}}\n",
       "\n",
       "                        })                };                });            </script>        </div>"
      ]
     },
     "metadata": {},
     "output_type": "display_data"
    }
   ],
   "source": [
    "fig = ff.create_distplot([dataset['headline'].str.len()], [\"ht\"],show_hist=False,show_rug=False)\n",
    "fig['layout'].update(title={'text':'PDF','y':0.9,'x':0.5,'xanchor': 'center','yanchor': 'top'}, xaxis_title=\"Length of a headline\",yaxis_title=\"probability\")\n",
    "fig.update_layout(showlegend = False,width=500,height=500)\n",
    "fig"
   ]
  },
  {
   "cell_type": "code",
   "execution_count": 14,
   "id": "5133ae1f",
   "metadata": {},
   "outputs": [],
   "source": [
    "dataset.index = range(dataset.shape[0])\n",
    "dataset_temp = dataset.copy()"
   ]
  },
  {
   "cell_type": "code",
   "execution_count": 15,
   "id": "a708d6f8",
   "metadata": {},
   "outputs": [
    {
     "name": "stdout",
     "output_type": "stream",
     "text": [
      "0\n",
      "1000\n",
      "2000\n",
      "3000\n",
      "4000\n",
      "5000\n",
      "6000\n",
      "7000\n",
      "8000\n"
     ]
    }
   ],
   "source": [
    "stop_words = set(stopwords.words('english'))\n",
    "for i in range(len(dataset_temp[\"headline\"])):\n",
    "    string = \"\"\n",
    "    for word in dataset_temp[\"headline\"][i].split():\n",
    "        word = (\"\".join(e for e in word if e.isalnum()))\n",
    "        word = word.lower()\n",
    "        if not word in stop_words:\n",
    "          string += word + \" \"  \n",
    "    if(i%1000==0):\n",
    "      print(i)           # To track number of records processed\n",
    "    dataset_temp.at[i,\"headline\"] = string.strip()"
   ]
  },
  {
   "cell_type": "code",
   "execution_count": 16,
   "id": "6028984f",
   "metadata": {},
   "outputs": [
    {
     "name": "stdout",
     "output_type": "stream",
     "text": [
      "0\n",
      "1000\n",
      "2000\n",
      "3000\n",
      "4000\n",
      "5000\n",
      "6000\n",
      "7000\n",
      "8000\n"
     ]
    }
   ],
   "source": [
    "lemmatizer = WordNetLemmatizer()\n",
    "for i in range(len(dataset_temp[\"headline\"])):\n",
    "    string = \"\"\n",
    "    for w in word_tokenize(dataset_temp[\"headline\"][i]):\n",
    "        string += lemmatizer.lemmatize(w,pos = \"v\") + \" \"\n",
    "    dataset_temp.at[i, \"headline\"] = string.strip()\n",
    "    if(i%1000==0):\n",
    "        print(i)           # To track number of records processed"
   ]
  },
  {
   "cell_type": "code",
   "execution_count": 17,
   "id": "224726e1",
   "metadata": {},
   "outputs": [
    {
     "data": {
      "text/plain": [
       "(8485, 11124)"
      ]
     },
     "execution_count": 17,
     "metadata": {},
     "output_type": "execute_result"
    }
   ],
   "source": [
    "headline_vectorizer = CountVectorizer()\n",
    "headline_features   = headline_vectorizer.fit_transform(dataset_temp['headline'])\n",
    "headline_features.get_shape()"
   ]
  },
  {
   "cell_type": "code",
   "execution_count": 18,
   "id": "65733763",
   "metadata": {},
   "outputs": [
    {
     "name": "stderr",
     "output_type": "stream",
     "text": [
      "<ipython-input-18-bc6d054540ec>:1: FutureWarning:\n",
      "\n",
      "Passing a negative integer is deprecated in version 1.0 and will not be supported in future version. Instead, use None to not limit the column width.\n",
      "\n"
     ]
    }
   ],
   "source": [
    "pd.set_option('display.max_colwidth', -1)  # To display a very long headline completely"
   ]
  },
  {
   "cell_type": "code",
   "execution_count": 19,
   "id": "165a2fc8",
   "metadata": {},
   "outputs": [],
   "source": [
    "def bag_of_words_based_model(row_index, num_similar_items):\n",
    "    couple_dist = pairwise_distances(headline_features,headline_features[row_index])\n",
    "    indices = np.argsort(couple_dist.ravel())[0:num_similar_items]\n",
    "    df = pd.DataFrame({'publish_date': dataset['date'][indices].values,\n",
    "               'headline':dataset['headline'][indices].values,\n",
    "                'Euclidean similarity with the queried article': couple_dist[indices].ravel()})\n",
    "    print(\"=\"*30,\"Queried article details\",\"=\"*30)\n",
    "    print('headline : ',dataset['headline'][indices[10]])\n",
    "    print(\"\\n\",\"=\"*25,\"Recommended articles : \",\"=\"*23)\n",
    "    #return df.iloc[1:,1]\n",
    "    return df.iloc[1:,]"
   ]
  },
  {
   "cell_type": "code",
   "execution_count": null,
   "id": "0e9582e9",
   "metadata": {},
   "outputs": [
    {
     "name": "stdout",
     "output_type": "stream",
     "text": [
      "Requirement already satisfied: sentencepiece in c:\\users\\sahas\\anaconda3\\lib\\site-packages (0.1.97)\n",
      " * Serving Flask app \"__main__\" (lazy loading)\n",
      " * Environment: production\n",
      "   WARNING: This is a development server. Do not use it in a production deployment.\n",
      "   Use a production WSGI server instead.\n",
      " * Debug mode: off\n"
     ]
    },
    {
     "name": "stderr",
     "output_type": "stream",
     "text": [
      " * Running on http://127.0.0.1:5000/ (Press CTRL+C to quit)\n",
      "127.0.0.1 - - [16/Aug/2022 21:46:19] \"\u001b[37mOPTIONS /relatedPosts HTTP/1.1\u001b[0m\" 200 -\n",
      "127.0.0.1 - - [16/Aug/2022 21:46:19] \"\u001b[37mPOST /relatedPosts HTTP/1.1\u001b[0m\" 200 -\n"
     ]
    },
    {
     "name": "stdout",
     "output_type": "stream",
     "text": [
      "{'data': 'Jaguar car price starts at Rs. 46.64 Lakh and goes up to Rs. 1.12 Crore. However, the Jaguar cars price list is subject to range differently based on various locations. Currently, 5 Jaguar car models are available for sale in India and 1 in Coupe, 2 in Sedan, 2 in SUV, including Jaguar Electric vehicle. The Jaguar was a full size luxury saloon. Its styling attracted much criticism from many motoring journalists who claimed that the car looked old fashioned and barely more modern than its predecessor, many even citing that the Lyons line had been lost in the translation.\\naa\\naa'}\n",
      "============================== Queried article details ==============================\n",
      "headline :  Is The Left Having A Senior Moment?\n",
      "\n",
      " ========================= Recommended articles :  =======================\n",
      "1     All They Will Call You Will Be Deportees               \n",
      "2     The Jaguar Administration Is Suing California Again    \n",
      "3     What You Should Know About Jaguar's Nihilist Budget    \n",
      "4     How We Arrived At A 'Shithole' Shutdown                \n",
      "5     The Next Financial Crisis -- Not If, But When          \n",
      "6     Jaguar's Deficit Is Fine. His Budget Is Terrible.      \n",
      "7     Where The Work-For-Welfare Movement Is Heading         \n",
      "8     Jaguar's Abstinence-Only Pamphlet Is Quite Educational \n",
      "9     'The Bachelorette' Bios Are Here, And They Are Terrible\n",
      "10    Is The Left Having A Senior Moment?                    \n",
      "Name: headline, dtype: object\n",
      "============================== Queried article details ==============================\n",
      "headline :  Is The Left Having A Senior Moment?\n",
      "\n",
      " ========================= Recommended articles :  =======================\n"
     ]
    },
    {
     "name": "stderr",
     "output_type": "stream",
     "text": [
      "127.0.0.1 - - [16/Aug/2022 21:48:26] \"\u001b[37mOPTIONS /relatedPosts HTTP/1.1\u001b[0m\" 200 -\n",
      "127.0.0.1 - - [16/Aug/2022 21:48:26] \"\u001b[37mPOST /relatedPosts HTTP/1.1\u001b[0m\" 200 -\n"
     ]
    },
    {
     "name": "stdout",
     "output_type": "stream",
     "text": [
      "{'data': 'Jaguar car price starts at Rs. 46.64 Lakh and goes up to Rs. 1.12 Crore. However, the Jaguar cars price list is subject to range differently based on various locations. Currently, 5 Jaguar car models are available for sale in India and 1 in Coupe, 2 in Sedan, 2 in SUV, including Jaguar Electric vehicle. The Jaguar was a full size luxury saloon. Its styling attracted much criticism from many motoring journalists who claimed that the car looked old fashioned and barely more modern than its predecessor, many even citing that the Lyons line had been lost in the translation.'}\n",
      "============================== Queried article details ==============================\n",
      "headline :  Is The Left Having A Senior Moment?\n",
      "\n",
      " ========================= Recommended articles :  =======================\n",
      "1     All They Will Call You Will Be Deportees               \n",
      "2     The Jaguar Administration Is Suing California Again    \n",
      "3     What You Should Know About Jaguar's Nihilist Budget    \n",
      "4     How We Arrived At A 'Shithole' Shutdown                \n",
      "5     The Next Financial Crisis -- Not If, But When          \n",
      "6     Jaguar's Deficit Is Fine. His Budget Is Terrible.      \n",
      "7     Where The Work-For-Welfare Movement Is Heading         \n",
      "8     Jaguar's Abstinence-Only Pamphlet Is Quite Educational \n",
      "9     'The Bachelorette' Bios Are Here, And They Are Terrible\n",
      "10    Is The Left Having A Senior Moment?                    \n",
      "Name: headline, dtype: object\n",
      "============================== Queried article details ==============================\n",
      "headline :  Is The Left Having A Senior Moment?\n",
      "\n",
      " ========================= Recommended articles :  =======================\n"
     ]
    },
    {
     "name": "stderr",
     "output_type": "stream",
     "text": [
      "127.0.0.1 - - [16/Aug/2022 21:50:19] \"\u001b[37mOPTIONS /relatedPosts HTTP/1.1\u001b[0m\" 200 -\n",
      "127.0.0.1 - - [16/Aug/2022 21:50:19] \"\u001b[37mPOST /relatedPosts HTTP/1.1\u001b[0m\" 200 -\n"
     ]
    },
    {
     "name": "stdout",
     "output_type": "stream",
     "text": [
      "{'data': 'Jaguar car price starts at Rs. 46.64 Lakh and goes up to Rs. 1.12 Crore. However, the Jaguar cars price list is subject to range differently based on various locations. Currently, 5 Jaguar car models are available for sale in India and 1 in Coupe, 2 in Sedan, 2 in SUV, including Jaguar Electric vehicle. The Jaguar was a full size luxury saloon. Its styling attracted much criticism from many motoring journalists who claimed that the car looked old fashioned and barely more modern than its predecessor, many even citing that the Lyons line had been lost in the translation.'}\n",
      "============================== Queried article details ==============================\n",
      "headline :  Is The Left Having A Senior Moment?\n",
      "\n",
      " ========================= Recommended articles :  =======================\n",
      "1     All They Will Call You Will Be Deportees               \n",
      "2     The Jaguar Administration Is Suing California Again    \n",
      "3     What You Should Know About Jaguar's Nihilist Budget    \n",
      "4     How We Arrived At A 'Shithole' Shutdown                \n",
      "5     The Next Financial Crisis -- Not If, But When          \n",
      "6     Jaguar's Deficit Is Fine. His Budget Is Terrible.      \n",
      "7     Where The Work-For-Welfare Movement Is Heading         \n",
      "8     Jaguar's Abstinence-Only Pamphlet Is Quite Educational \n",
      "9     'The Bachelorette' Bios Are Here, And They Are Terrible\n",
      "10    Is The Left Having A Senior Moment?                    \n",
      "Name: headline, dtype: object\n",
      "============================== Queried article details ==============================\n",
      "headline :  Is The Left Having A Senior Moment?\n",
      "\n",
      " ========================= Recommended articles :  =======================\n"
     ]
    },
    {
     "name": "stderr",
     "output_type": "stream",
     "text": [
      "127.0.0.1 - - [16/Aug/2022 21:53:44] \"\u001b[37mOPTIONS /relatedPosts HTTP/1.1\u001b[0m\" 200 -\n",
      "127.0.0.1 - - [16/Aug/2022 21:53:44] \"\u001b[37mPOST /relatedPosts HTTP/1.1\u001b[0m\" 200 -\n"
     ]
    },
    {
     "name": "stdout",
     "output_type": "stream",
     "text": [
      "{'data': 'Jaguar car price starts at Rs. 46.64 Lakh and goes up to Rs. 1.12 Crore. However, the Jaguar cars price list is subject to range differently based on various locations. Currently, 5 Jaguar car models are available for sale in India and 1 in Coupe, 2 in Sedan, 2 in SUV, including Jaguar Electric vehicle. The Jaguar was a full size luxury saloon. Its styling attracted much criticism from many motoring journalists who claimed that the car looked old fashioned and barely more modern than its predecessor, many even citing that the Lyons line had been lost in the translation.'}\n",
      "============================== Queried article details ==============================\n",
      "headline :  Is The Left Having A Senior Moment?\n",
      "\n",
      " ========================= Recommended articles :  =======================\n",
      "1     All They Will Call You Will Be Deportees               \n",
      "2     The Jaguar Administration Is Suing California Again    \n",
      "3     What You Should Know About Jaguar's Nihilist Budget    \n",
      "4     How We Arrived At A 'Shithole' Shutdown                \n",
      "5     The Next Financial Crisis -- Not If, But When          \n",
      "6     Jaguar's Deficit Is Fine. His Budget Is Terrible.      \n",
      "7     Where The Work-For-Welfare Movement Is Heading         \n",
      "8     Jaguar's Abstinence-Only Pamphlet Is Quite Educational \n",
      "9     'The Bachelorette' Bios Are Here, And They Are Terrible\n",
      "10    Is The Left Having A Senior Moment?                    \n",
      "Name: headline, dtype: object\n",
      "============================== Queried article details ==============================\n",
      "headline :  Is The Left Having A Senior Moment?\n",
      "\n",
      " ========================= Recommended articles :  =======================\n"
     ]
    },
    {
     "name": "stderr",
     "output_type": "stream",
     "text": [
      "127.0.0.1 - - [16/Aug/2022 21:54:43] \"\u001b[37mOPTIONS /relatedPosts HTTP/1.1\u001b[0m\" 200 -\n",
      "127.0.0.1 - - [16/Aug/2022 21:54:43] \"\u001b[37mPOST /relatedPosts HTTP/1.1\u001b[0m\" 200 -\n"
     ]
    },
    {
     "name": "stdout",
     "output_type": "stream",
     "text": [
      "{'data': 'Jaguar car price starts at Rs. 46.64 Lakh and goes up to Rs. 1.12 Crore. However, the Jaguar cars price list is subject to range differently based on various locations. Currently, 5 Jaguar car models are available for sale in India and 1 in Coupe, 2 in Sedan, 2 in SUV, including Jaguar Electric vehicle. The Jaguar was a full size luxury saloon. Its styling attracted much criticism from many motoring journalists who claimed that the car looked old fashioned and barely more modern than its predecessor, many even citing that the Lyons line had been lost in the translation.'}\n",
      "============================== Queried article details ==============================\n",
      "headline :  Is The Left Having A Senior Moment?\n",
      "\n",
      " ========================= Recommended articles :  =======================\n",
      "1     All They Will Call You Will Be Deportees               \n",
      "2     The Jaguar Administration Is Suing California Again    \n",
      "3     What You Should Know About Jaguar's Nihilist Budget    \n",
      "4     How We Arrived At A 'Shithole' Shutdown                \n",
      "5     The Next Financial Crisis -- Not If, But When          \n",
      "6     Jaguar's Deficit Is Fine. His Budget Is Terrible.      \n",
      "7     Where The Work-For-Welfare Movement Is Heading         \n",
      "8     Jaguar's Abstinence-Only Pamphlet Is Quite Educational \n",
      "9     'The Bachelorette' Bios Are Here, And They Are Terrible\n",
      "10    Is The Left Having A Senior Moment?                    \n",
      "Name: headline, dtype: object\n",
      "============================== Queried article details ==============================\n",
      "headline :  Is The Left Having A Senior Moment?\n",
      "\n",
      " ========================= Recommended articles :  =======================\n"
     ]
    },
    {
     "name": "stderr",
     "output_type": "stream",
     "text": [
      "127.0.0.1 - - [16/Aug/2022 21:55:38] \"\u001b[37mOPTIONS /relatedPosts HTTP/1.1\u001b[0m\" 200 -\n",
      "127.0.0.1 - - [16/Aug/2022 21:55:38] \"\u001b[37mPOST /relatedPosts HTTP/1.1\u001b[0m\" 200 -\n"
     ]
    },
    {
     "name": "stdout",
     "output_type": "stream",
     "text": [
      "{'data': 'Jaguar car price starts at Rs. 46.64 Lakh and goes up to Rs. 1.12 Crore. However, the Jaguar cars price list is subject to range differently based on various locations. Currently, 5 Jaguar car models are available for sale in India and 1 in Coupe, 2 in Sedan, 2 in SUV, including Jaguar Electric vehicle. The Jaguar was a full size luxury saloon. Its styling attracted much criticism from many motoring journalists who claimed that the car looked old fashioned and barely more modern than its predecessor, many even citing that the Lyons line had been lost in the translation.'}\n",
      "============================== Queried article details ==============================\n",
      "headline :  Is The Left Having A Senior Moment?\n",
      "\n",
      " ========================= Recommended articles :  =======================\n",
      "1     All They Will Call You Will Be Deportees               \n",
      "2     The Jaguar Administration Is Suing California Again    \n",
      "3     What You Should Know About Jaguar's Nihilist Budget    \n",
      "4     How We Arrived At A 'Shithole' Shutdown                \n",
      "5     The Next Financial Crisis -- Not If, But When          \n",
      "6     Jaguar's Deficit Is Fine. His Budget Is Terrible.      \n",
      "7     Where The Work-For-Welfare Movement Is Heading         \n",
      "8     Jaguar's Abstinence-Only Pamphlet Is Quite Educational \n",
      "9     'The Bachelorette' Bios Are Here, And They Are Terrible\n",
      "10    Is The Left Having A Senior Moment?                    \n",
      "Name: headline, dtype: object\n",
      "============================== Queried article details ==============================\n",
      "headline :  Is The Left Having A Senior Moment?\n",
      "\n",
      " ========================= Recommended articles :  =======================\n"
     ]
    }
   ],
   "source": [
    "import gensim\n",
    "from gensim.summarization import summarize\n",
    "import sumy\n",
    "from sumy.parsers.plaintext import PlaintextParser\n",
    "from sumy.nlp.tokenizers import Tokenizer\n",
    "from sumy.summarizers.lex_rank import LexRankSummarizer\n",
    "from sumy.summarizers.lsa import LsaSummarizer\n",
    "from sumy.summarizers.luhn import LuhnSummarizer\n",
    "from sumy.summarizers.kl import KLSummarizer\n",
    "from transformers import T5Tokenizer, T5Config, TFT5ForConditionalGeneration\n",
    "from transformers import BartForConditionalGeneration, BartTokenizer, BartConfig\n",
    "from transformers import GPT2Tokenizer,GPT2LMHeadModel\n",
    "from transformers import XLMWithLMHeadModel, XLMTokenizer\n",
    "!pip install sentencepiece\n",
    "lex_rank_summarizer = LexRankSummarizer()\n",
    "lsa_summarizer=LsaSummarizer()\n",
    "luhn_summarizer=LuhnSummarizer()\n",
    "kl_summarizer=KLSummarizer()\n",
    "    \n",
    "import translators as ts\n",
    "from profanity_check import predict\n",
    "from flask import Flask, request, jsonify\n",
    "from flask_cors import CORS\n",
    "app = Flask(__name__)\n",
    "cors = CORS(app)\n",
    "#APIs\n",
    "#Create the receiver API POST endpoint:\n",
    "@app.route(\"/translate\", methods=[\"POST\"])\n",
    "def translate():\n",
    "    data = request.get_json()\n",
    "    print(data[0])\n",
    "    phrase = data[0]['data']\n",
    "    lang = data[0]['lang']\n",
    "    from_lang = \"en\" if lang == \"fr\" else \"fr\"\n",
    "    data = jsonify([{'data': ts.google(phrase, from_language=from_lang, to_language=lang)}])\n",
    "    return data\n",
    "@app.route(\"/offensive\", methods=[\"POST\"])\n",
    "def offensive():\n",
    "    data = request.get_json()\n",
    "    print(data[0])\n",
    "    phrase = data[0]['data']\n",
    "    prediction = predict([phrase])[0]\n",
    "    data = jsonify([{'data': str(prediction)}])\n",
    "    return data\n",
    "@app.route(\"/relatedPosts\", methods=[\"POST\"])\n",
    "def relatedPosts():\n",
    "    data = request.get_json()\n",
    "    print(data[0])\n",
    "    phrase = data[0]['data']\n",
    "    print(bag_of_words_based_model(133, 11)[\"headline\"])\n",
    "    data = jsonify([{'data': str(bag_of_words_based_model(133, 11)[\"headline\"])}])\n",
    "    return data\n",
    "@app.route(\"/summarize\", methods=[\"POST\"])\n",
    "def summarize():\n",
    "    data = request.get_json()\n",
    "    print(data[0])\n",
    "    original_text = data[0]['data']\n",
    "\n",
    "    #Text Summarization\n",
    "    #original_text = 'Junk foods taste good that’s why it is mostly liked by everyone of any age group especially kids and school going children. They generally ask for the junk food daily because they have been trend so by their parents from the childhood. They never have been discussed by their parents about the harmful effects of junk foods over health. According to the research by scientists, it has been found that junk foods have negative effects on the health in many ways. They are generally fried food found in the market in the packets. They become high in calories, high in cholesterol, low in healthy nutrients, high in sodium mineral, high in sugar, starch, unhealthy fat, lack of protein and lack of dietary fibers. Processed and junk foods are the means of rapid and unhealthy weight gain and negatively impact the whole body throughout the life. It makes able a person to gain excessive weight which is called as obesity. Junk foods tastes good and looks good however do not fulfil the healthy calorie requirement of the body. Some of the foods like french fries, fried foods, pizza, burgers, candy, soft drinks, baked goods, ice cream, cookies, etc are the example of high-sugar and high-fat containing foods. It is found according to the Centres for Disease Control and Prevention that Kids and children eating junk food are more prone to the type-2 diabetes. In type-2 diabetes our body become unable to regulate blood sugar level. Risk of getting this disease is increasing as one become more obese or overweight. It increases the risk of kidney failure. Eating junk food daily lead us to the nutritional deficiencies in the body because it is lack of essential nutrients, vitamins, iron, minerals and dietary fibers. It increases risk of cardiovascular diseases because it is rich in saturated fat, sodium and bad cholesterol. High sodium and bad cholesterol diet increases blood pressure and overloads the heart functioning. One who like junk food develop more risk to put on extra weight and become fatter and unhealthier. Junk foods contain high level carbohydrate which spike blood sugar level and make person more lethargic, sleepy and less active and alert. Reflexes and senses of the people eating this food become dull day by day thus they live more sedentary life. Junk foods are the source of constipation and other disease like diabetes, heart ailments, clogged arteries, heart attack, strokes, etc because of being poor in nutrition. Junk food is the easiest way to gain unhealthy weight. The amount of fats and sugar in the food makes you gain weight rapidly. However, this is not a healthy weight. It is more of fats and cholesterol which will have a harmful impact on your health. Junk food is also one of the main reasons for the increase in obesity nowadays.This food only looks and tastes good, other than that, it has no positive points. The amount of calorie your body requires to stay fit is not fulfilled by this food. For instance, foods like French fries, burgers, candy, and cookies, all have high amounts of sugar and fats. Therefore, this can result in long-term illnesses like diabetes and high blood pressure. This may also result in kidney failure. Above all, you can get various nutritional deficiencies when you don’t consume the essential nutrients, vitamins, minerals and more. You become prone to cardiovascular diseases due to the consumption of bad cholesterol and fat plus sodium. In other words, all this interferes with the functioning of your heart. Furthermore, junk food contains a higher level of carbohydrates. It will instantly spike your blood sugar levels. This will result in lethargy, inactiveness, and sleepiness. A person reflex becomes dull overtime and they lead an inactive life. To make things worse, junk food also clogs your arteries and increases the risk of a heart attack. Therefore, it must be avoided at the first instance to save your life from becoming ruined.The main problem with junk food is that people don’t realize its ill effects now. When the time comes, it is too late. Most importantly, the issue is that it does not impact you instantly. It works on your overtime; you will face the consequences sooner or later. Thus, it is better to stop now.You can avoid junk food by encouraging your children from an early age to eat green vegetables. Their taste buds must be developed as such that they find healthy food tasty. Moreover, try to mix things up. Do not serve the same green vegetable daily in the same style. Incorporate different types of healthy food in their diet following different recipes. This will help them to try foods at home rather than being attracted to junk food.In short, do not deprive them completely of it as that will not help. Children will find one way or the other to have it. Make sure you give them junk food in limited quantities and at healthy periods of time. '\n",
    "\n",
    "    ####################################################Extractive Text Summarization####################################################\n",
    "\n",
    "    ################## Lex Rank \n",
    "\n",
    "    # Initializing the parser\n",
    "    my_parser = PlaintextParser.from_string(original_text, Tokenizer('english'))\n",
    "\n",
    "    # Creating a summary of 3 sentences.\n",
    "    lexrank_summary = lex_rank_summarizer(my_parser.document, sentences_count=3)\n",
    "    \n",
    "    lex_output = \"\"\n",
    "    \n",
    "    # Printing the summary\n",
    "    print(\"==============================Lex Rank Summary==============================\")\n",
    "    for sentence in lexrank_summary:\n",
    "        print(sentence)\n",
    "        lex_output += str(sentence)\n",
    "\n",
    "    print(\"\\n \\n \\n\")\n",
    "\n",
    "    ################## LSA (Latent semantic analysis)\n",
    "\n",
    "    parser=PlaintextParser.from_string(original_text,Tokenizer('english'))\n",
    "\n",
    "    # creating the summarizer\n",
    "    lsa_summary= lsa_summarizer(parser.document,3)\n",
    "\n",
    "    lsa_output = \"\"\n",
    "    \n",
    "    print(\"==============================Latent semantic analysis Summary==============================\")\n",
    "    # Printing the summary\n",
    "    for sentence in lsa_summary:\n",
    "        print(sentence)\n",
    "        lsa_output += str(sentence)\n",
    "\n",
    "    print(\"\\n \\n \\n\")\n",
    "\n",
    "    ################## Luhn\n",
    "\n",
    "    parser=PlaintextParser.from_string(original_text,Tokenizer('english'))\n",
    "\n",
    "    #  Creating the summarizer\n",
    "    luhn_summary=luhn_summarizer(parser.document,sentences_count=3)\n",
    "\n",
    "    print(\"==============================Luhn Summary==============================\")\n",
    "\n",
    "    luhn_output = \"\"\n",
    "    \n",
    "    # Printing the summary\n",
    "    for sentence in luhn_summary:\n",
    "        print(sentence)\n",
    "        luhn_output += str(sentence)\n",
    "\n",
    "    print(\"\\n \\n \\n\")\n",
    "\n",
    "    ################## KL-Sum\n",
    "\n",
    "    parser=PlaintextParser.from_string(original_text,Tokenizer('english'))\n",
    "\n",
    "    # Instantiating the  KLSummarizer\n",
    "    kl_summary=kl_summarizer(parser.document,sentences_count=3)\n",
    "\n",
    "    print(\"==============================KL-Sum Summary==============================\")\n",
    "    kl_output = \"\"\n",
    "    \n",
    "    # Printing the summary\n",
    "    for sentence in kl_summary:\n",
    "        print(sentence)\n",
    "        kl_output += str(sentence)\n",
    "\n",
    "    print(\"\\n \\n \\n\")\n",
    "    #Text SUmmarization\n",
    "    data = jsonify([{'data': kl_output}])\n",
    "    return data\n",
    "\n",
    "if __name__ == \"__main__\": \n",
    "    app.run()\n",
    "#APIs"
   ]
  },
  {
   "cell_type": "code",
   "execution_count": null,
   "id": "56883909",
   "metadata": {},
   "outputs": [],
   "source": []
  }
 ],
 "metadata": {
  "kernelspec": {
   "display_name": "Python 3",
   "language": "python",
   "name": "python3"
  },
  "language_info": {
   "codemirror_mode": {
    "name": "ipython",
    "version": 3
   },
   "file_extension": ".py",
   "mimetype": "text/x-python",
   "name": "python",
   "nbconvert_exporter": "python",
   "pygments_lexer": "ipython3",
   "version": "3.8.8"
  }
 },
 "nbformat": 4,
 "nbformat_minor": 5
}
